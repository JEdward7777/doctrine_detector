{
 "cells": [
  {
   "cell_type": "code",
   "execution_count": 1,
   "id": "d235af16-bcf7-4f32-a8a7-54c43a2cd105",
   "metadata": {},
   "outputs": [],
   "source": [
    "%load_ext autoreload\n",
    "%autoreload 2"
   ]
  },
  {
   "cell_type": "code",
   "execution_count": 2,
   "id": "07b10f61-a979-4c01-96e2-64d32f58a9dd",
   "metadata": {},
   "outputs": [
    {
     "name": "stdout",
     "output_type": "stream",
     "text": [
      "Requirement already satisfied: transformers in /opt/conda/lib/python3.11/site-packages (4.44.2)\n",
      "Requirement already satisfied: filelock in /opt/conda/lib/python3.11/site-packages (from transformers) (3.13.1)\n",
      "Requirement already satisfied: huggingface-hub<1.0,>=0.23.2 in /opt/conda/lib/python3.11/site-packages (from transformers) (0.24.7)\n",
      "Requirement already satisfied: numpy>=1.17 in /opt/conda/lib/python3.11/site-packages (from transformers) (1.26.4)\n",
      "Requirement already satisfied: packaging>=20.0 in /opt/conda/lib/python3.11/site-packages (from transformers) (24.1)\n",
      "Requirement already satisfied: pyyaml>=5.1 in /opt/conda/lib/python3.11/site-packages (from transformers) (6.0.1)\n",
      "Requirement already satisfied: regex!=2019.12.17 in /opt/conda/lib/python3.11/site-packages (from transformers) (2024.9.11)\n",
      "Requirement already satisfied: requests in /opt/conda/lib/python3.11/site-packages (from transformers) (2.32.3)\n",
      "Requirement already satisfied: safetensors>=0.4.1 in /opt/conda/lib/python3.11/site-packages (from transformers) (0.4.5)\n",
      "Requirement already satisfied: tokenizers<0.20,>=0.19 in /opt/conda/lib/python3.11/site-packages (from transformers) (0.19.1)\n",
      "Requirement already satisfied: tqdm>=4.27 in /opt/conda/lib/python3.11/site-packages (from transformers) (4.66.4)\n",
      "Requirement already satisfied: fsspec>=2023.5.0 in /opt/conda/lib/python3.11/site-packages (from huggingface-hub<1.0,>=0.23.2->transformers) (2024.6.1)\n",
      "Requirement already satisfied: typing-extensions>=3.7.4.3 in /opt/conda/lib/python3.11/site-packages (from huggingface-hub<1.0,>=0.23.2->transformers) (4.11.0)\n",
      "Requirement already satisfied: charset-normalizer<4,>=2 in /opt/conda/lib/python3.11/site-packages (from requests->transformers) (2.0.4)\n",
      "Requirement already satisfied: idna<4,>=2.5 in /opt/conda/lib/python3.11/site-packages (from requests->transformers) (3.7)\n",
      "Requirement already satisfied: urllib3<3,>=1.21.1 in /opt/conda/lib/python3.11/site-packages (from requests->transformers) (2.2.2)\n",
      "Requirement already satisfied: certifi>=2017.4.17 in /opt/conda/lib/python3.11/site-packages (from requests->transformers) (2024.7.4)\n",
      "\u001b[33mWARNING: Running pip as the 'root' user can result in broken permissions and conflicting behaviour with the system package manager. It is recommended to use a virtual environment instead: https://pip.pypa.io/warnings/venv\u001b[0m\u001b[33m\n",
      "\u001b[0mRequirement already satisfied: repeng in /opt/conda/lib/python3.11/site-packages (0.3.1)\n",
      "Requirement already satisfied: accelerate<0.27.0,>=0.26.1 in /opt/conda/lib/python3.11/site-packages (from repeng) (0.26.1)\n",
      "Requirement already satisfied: gguf<0.7.0,>=0.6.0 in /opt/conda/lib/python3.11/site-packages (from repeng) (0.6.0)\n",
      "Requirement already satisfied: numpy<2.0.0,>=1.26.3 in /opt/conda/lib/python3.11/site-packages (from repeng) (1.26.4)\n",
      "Requirement already satisfied: scikit-learn<2.0.0,>=1.4.0 in /opt/conda/lib/python3.11/site-packages (from repeng) (1.5.2)\n",
      "Requirement already satisfied: torch<3.0.0,>=2.1.2 in /opt/conda/lib/python3.11/site-packages (from repeng) (2.4.0)\n",
      "Requirement already satisfied: tqdm<5.0.0,>=4.66.1 in /opt/conda/lib/python3.11/site-packages (from repeng) (4.66.4)\n",
      "Requirement already satisfied: transformers<5.0.0,>=4.36.2 in /opt/conda/lib/python3.11/site-packages (from repeng) (4.44.2)\n",
      "Requirement already satisfied: packaging>=20.0 in /opt/conda/lib/python3.11/site-packages (from accelerate<0.27.0,>=0.26.1->repeng) (24.1)\n",
      "Requirement already satisfied: psutil in /opt/conda/lib/python3.11/site-packages (from accelerate<0.27.0,>=0.26.1->repeng) (5.9.0)\n",
      "Requirement already satisfied: pyyaml in /opt/conda/lib/python3.11/site-packages (from accelerate<0.27.0,>=0.26.1->repeng) (6.0.1)\n",
      "Requirement already satisfied: huggingface-hub in /opt/conda/lib/python3.11/site-packages (from accelerate<0.27.0,>=0.26.1->repeng) (0.24.7)\n",
      "Requirement already satisfied: safetensors>=0.3.1 in /opt/conda/lib/python3.11/site-packages (from accelerate<0.27.0,>=0.26.1->repeng) (0.4.5)\n",
      "Requirement already satisfied: scipy>=1.6.0 in /opt/conda/lib/python3.11/site-packages (from scikit-learn<2.0.0,>=1.4.0->repeng) (1.14.1)\n",
      "Requirement already satisfied: joblib>=1.2.0 in /opt/conda/lib/python3.11/site-packages (from scikit-learn<2.0.0,>=1.4.0->repeng) (1.4.2)\n",
      "Requirement already satisfied: threadpoolctl>=3.1.0 in /opt/conda/lib/python3.11/site-packages (from scikit-learn<2.0.0,>=1.4.0->repeng) (3.5.0)\n",
      "Requirement already satisfied: filelock in /opt/conda/lib/python3.11/site-packages (from torch<3.0.0,>=2.1.2->repeng) (3.13.1)\n",
      "Requirement already satisfied: typing-extensions>=4.8.0 in /opt/conda/lib/python3.11/site-packages (from torch<3.0.0,>=2.1.2->repeng) (4.11.0)\n",
      "Requirement already satisfied: sympy in /opt/conda/lib/python3.11/site-packages (from torch<3.0.0,>=2.1.2->repeng) (1.12)\n",
      "Requirement already satisfied: networkx in /opt/conda/lib/python3.11/site-packages (from torch<3.0.0,>=2.1.2->repeng) (3.3)\n",
      "Requirement already satisfied: jinja2 in /opt/conda/lib/python3.11/site-packages (from torch<3.0.0,>=2.1.2->repeng) (3.1.4)\n",
      "Requirement already satisfied: fsspec in /opt/conda/lib/python3.11/site-packages (from torch<3.0.0,>=2.1.2->repeng) (2024.6.1)\n",
      "Requirement already satisfied: regex!=2019.12.17 in /opt/conda/lib/python3.11/site-packages (from transformers<5.0.0,>=4.36.2->repeng) (2024.9.11)\n",
      "Requirement already satisfied: requests in /opt/conda/lib/python3.11/site-packages (from transformers<5.0.0,>=4.36.2->repeng) (2.32.3)\n",
      "Requirement already satisfied: tokenizers<0.20,>=0.19 in /opt/conda/lib/python3.11/site-packages (from transformers<5.0.0,>=4.36.2->repeng) (0.19.1)\n",
      "Requirement already satisfied: MarkupSafe>=2.0 in /opt/conda/lib/python3.11/site-packages (from jinja2->torch<3.0.0,>=2.1.2->repeng) (2.1.3)\n",
      "Requirement already satisfied: charset-normalizer<4,>=2 in /opt/conda/lib/python3.11/site-packages (from requests->transformers<5.0.0,>=4.36.2->repeng) (2.0.4)\n",
      "Requirement already satisfied: idna<4,>=2.5 in /opt/conda/lib/python3.11/site-packages (from requests->transformers<5.0.0,>=4.36.2->repeng) (3.7)\n",
      "Requirement already satisfied: urllib3<3,>=1.21.1 in /opt/conda/lib/python3.11/site-packages (from requests->transformers<5.0.0,>=4.36.2->repeng) (2.2.2)\n",
      "Requirement already satisfied: certifi>=2017.4.17 in /opt/conda/lib/python3.11/site-packages (from requests->transformers<5.0.0,>=4.36.2->repeng) (2024.7.4)\n",
      "Requirement already satisfied: mpmath>=0.19 in /opt/conda/lib/python3.11/site-packages (from sympy->torch<3.0.0,>=2.1.2->repeng) (1.3.0)\n",
      "\u001b[33mWARNING: Running pip as the 'root' user can result in broken permissions and conflicting behaviour with the system package manager. It is recommended to use a virtual environment instead: https://pip.pypa.io/warnings/venv\u001b[0m\u001b[33m\n",
      "\u001b[0m"
     ]
    }
   ],
   "source": [
    "!pip install transformers\n",
    "!pip install repeng"
   ]
  },
  {
   "cell_type": "code",
   "execution_count": 3,
   "id": "6c8451cb-e58c-4f38-86b7-6b5091128a90",
   "metadata": {},
   "outputs": [],
   "source": [
    "import json\n",
    "\n",
    "import torch\n",
    "from transformers import AutoModelForCausalLM, AutoTokenizer\n",
    "\n",
    "#https://github.com/vgel/repeng/blob/main/repeng/extract.py#L59\n",
    "from repeng import ControlVector, ControlModel, DatasetEntry"
   ]
  },
  {
   "cell_type": "code",
   "execution_count": 4,
   "id": "cae26c40-d191-4e33-9842-b48aebf71798",
   "metadata": {},
   "outputs": [],
   "source": [
    "import os\n",
    "with open( \"keys.json\", \"rt\" ) as fin:\n",
    "    keys = json.load( fin )\n",
    "    \n",
    "os.environ[\"HF_TOKEN\"] = keys['hf_token']\n"
   ]
  },
  {
   "cell_type": "code",
   "execution_count": 5,
   "id": "a46087a1-6f22-4e27-afa2-701219170097",
   "metadata": {},
   "outputs": [
    {
     "data": {
      "application/vnd.jupyter.widget-view+json": {
       "model_id": "c11c8cc2d8a64848bc1318563cebd2b7",
       "version_major": 2,
       "version_minor": 0
      },
      "text/plain": [
       "Loading checkpoint shards:   0%|          | 0/2 [00:00<?, ?it/s]"
      ]
     },
     "metadata": {},
     "output_type": "display_data"
    }
   ],
   "source": [
    "model_name = \"mistralai/Mistral-7B-Instruct-v0.1\"\n",
    "\n",
    "tokenizer = AutoTokenizer.from_pretrained(model_name)\n",
    "tokenizer.pad_token_id = 0\n",
    "\n",
    "model = AutoModelForCausalLM.from_pretrained(model_name, torch_dtype=torch.float16)\n",
    "model = model.to(\"cuda:0\" if torch.cuda.is_available() else \"mps:0\" if torch.backends.mps.is_available() else \"cpu\")\n",
    "model = ControlModel(model, list(range(-5, -18, -1)))\n",
    "\n",
    "user_tag, asst_tag = \"[INST]\", \"[/INST]\""
   ]
  },
  {
   "cell_type": "code",
   "execution_count": 6,
   "id": "14e449ab-7442-4f50-8877-9ed0c460ab08",
   "metadata": {},
   "outputs": [],
   "source": [
    "with open(\"data/all_truncated_outputs.json\") as f:\n",
    "    output_suffixes = json.load(f)\n",
    "truncated_output_suffixes = [\n",
    "    tokenizer.convert_tokens_to_string(tokens[:i])\n",
    "    for tokens in (tokenizer.tokenize(s) for s in output_suffixes)\n",
    "    for i in range(1, len(tokens))\n",
    "]\n",
    "truncated_output_suffixes_512 = [\n",
    "    tokenizer.convert_tokens_to_string(tokens[:i])\n",
    "    for tokens in (tokenizer.tokenize(s) for s in output_suffixes[:512])\n",
    "    for i in range(1, len(tokens))\n",
    "]\n",
    "\n",
    "with open(\"data/true_facts.json\") as f:\n",
    "    fact_suffixes = json.load(f)\n",
    "truncated_fact_suffixes = [\n",
    "    tokenizer.convert_tokens_to_string(tokens[:i])\n",
    "    for tokens in (tokenizer.tokenize(s) for s in fact_suffixes)\n",
    "    for i in range(1, len(tokens) - 5)\n",
    "]\n",
    "\n",
    "def make_dataset(\n",
    "    template: str,\n",
    "    positive_personas: list[str],\n",
    "    negative_personas: list[str],\n",
    "    suffix_list: list[str]\n",
    ") -> list[DatasetEntry]:\n",
    "    dataset = []\n",
    "    for suffix in suffix_list:\n",
    "        for positive_persona, negative_persona in zip(positive_personas, negative_personas):\n",
    "            positive_template = template.format(persona=positive_persona)\n",
    "            negative_template = template.format(persona=negative_persona)\n",
    "            dataset.append(\n",
    "                DatasetEntry(\n",
    "                    positive=f\"{user_tag} {positive_template} {asst_tag} {suffix}\",\n",
    "                    negative=f\"{user_tag} {negative_template} {asst_tag} {suffix}\",\n",
    "                )\n",
    "            )\n",
    "    return dataset"
   ]
  },
  {
   "cell_type": "code",
   "execution_count": 7,
   "id": "466c4939-eb28-4099-b5c2-e6f58edd963c",
   "metadata": {},
   "outputs": [],
   "source": [
    "def generate_with_vector(\n",
    "    input: str,\n",
    "    vector: ControlVector,\n",
    "    coeffs: tuple[float, float],\n",
    "    max_new_tokens: int = 128,\n",
    "    repetition_penalty: float = 1.1,\n",
    "    show_baseline: bool = True,\n",
    "):\n",
    "    positive_coeff, negative_coeff = coeffs\n",
    "    assert positive_coeff > 0\n",
    "    assert negative_coeff < 0\n",
    "\n",
    "    if user_tag not in input:\n",
    "        input = f\"{user_tag} {input.strip()} {asst_tag}\"\n",
    "    input_ids = tokenizer(input, return_tensors=\"pt\").to(model.device)\n",
    "    settings = {\n",
    "        \"pad_token_id\": tokenizer.eos_token_id, # silence warning\n",
    "        \"do_sample\": False, # temperature=0\n",
    "        \"max_new_tokens\": max_new_tokens,\n",
    "        \"repetition_penalty\": repetition_penalty,\n",
    "    }\n",
    "\n",
    "    if show_baseline:\n",
    "        print(\"==baseline ---------------------------------------------------\")\n",
    "        model.reset()\n",
    "        print(tokenizer.decode(model.generate(**input_ids, **settings).squeeze()).strip())\n",
    "    \n",
    "    print(\"\\n++control ---------------------------------------------------\")\n",
    "    model.set_control(vector, positive_coeff)\n",
    "    print(tokenizer.decode(model.generate(**input_ids, **settings).squeeze()).strip())\n",
    "    \n",
    "    print(\"\\n--control ---------------------------------------------------\")\n",
    "    model.set_control(vector, negative_coeff)\n",
    "    print(tokenizer.decode(model.generate(**input_ids, **settings).squeeze()).strip())\n",
    "    model.reset()\n",
    "def generate_range_with_vector(\n",
    "    input: str,\n",
    "    vector: ControlVector,\n",
    "    start: float = 1,\n",
    "    step: float = .01,\n",
    "    count: int = 10,\n",
    "    max_new_tokens: int = 128,\n",
    "    repetition_penalty: float = 1.1,\n",
    "    show_baseline: bool = False,\n",
    "):\n",
    "\n",
    "    if user_tag not in input:\n",
    "        input = f\"{user_tag} {input.strip()} {asst_tag}\"\n",
    "    input_ids = tokenizer(input, return_tensors=\"pt\").to(model.device)\n",
    "    settings = {\n",
    "        \"pad_token_id\": tokenizer.eos_token_id, # silence warning\n",
    "        \"do_sample\": False, # temperature=0\n",
    "        \"max_new_tokens\": max_new_tokens,\n",
    "        \"repetition_penalty\": repetition_penalty,\n",
    "    }\n",
    "\n",
    "    if show_baseline:\n",
    "        print(\"==baseline ---------------------------------------------------\")\n",
    "        model.reset()\n",
    "        print(tokenizer.decode(model.generate(**input_ids, **settings).squeeze()).strip())\n",
    "\n",
    "    for i in range(count):\n",
    "        coeff = i*step+start\n",
    "        print(f\"\\ncontrol {i+1} of {count}: {coeff}---------------------------------------------------\")\n",
    "        model.set_control(vector, coeff)\n",
    "        print(tokenizer.decode(model.generate(**input_ids, **settings).squeeze()).strip())\n"
   ]
  },
  {
   "cell_type": "code",
   "execution_count": 35,
   "id": "cd6a4d4f-b67f-439a-b256-29bff5d0026c",
   "metadata": {},
   "outputs": [
    {
     "name": "stderr",
     "output_type": "stream",
     "text": [
      " 30%|███       | 47/156 [01:09<02:41,  1.48s/it]\n"
     ]
    },
    {
     "ename": "KeyboardInterrupt",
     "evalue": "",
     "output_type": "error",
     "traceback": [
      "\u001b[0;31m---------------------------------------------------------------------------\u001b[0m",
      "\u001b[0;31mKeyboardInterrupt\u001b[0m                         Traceback (most recent call last)",
      "Cell \u001b[0;32mIn[35], line 8\u001b[0m\n\u001b[1;32m      1\u001b[0m happy_dataset \u001b[38;5;241m=\u001b[39m make_dataset(\n\u001b[1;32m      2\u001b[0m     \u001b[38;5;124m\"\u001b[39m\u001b[38;5;124mAct as if you\u001b[39m\u001b[38;5;124m'\u001b[39m\u001b[38;5;124mre extremely \u001b[39m\u001b[38;5;132;01m{persona}\u001b[39;00m\u001b[38;5;124m.\u001b[39m\u001b[38;5;124m\"\u001b[39m,\n\u001b[1;32m      3\u001b[0m     [\u001b[38;5;124m\"\u001b[39m\u001b[38;5;124mhappy\u001b[39m\u001b[38;5;124m\"\u001b[39m, \u001b[38;5;124m\"\u001b[39m\u001b[38;5;124mjoyous\u001b[39m\u001b[38;5;124m\"\u001b[39m],\n\u001b[1;32m      4\u001b[0m     [\u001b[38;5;124m\"\u001b[39m\u001b[38;5;124msad\u001b[39m\u001b[38;5;124m\"\u001b[39m, \u001b[38;5;124m\"\u001b[39m\u001b[38;5;124mdepressed\u001b[39m\u001b[38;5;124m\"\u001b[39m],\n\u001b[1;32m      5\u001b[0m     truncated_output_suffixes,\n\u001b[1;32m      6\u001b[0m )\n\u001b[1;32m      7\u001b[0m model\u001b[38;5;241m.\u001b[39mreset()\n\u001b[0;32m----> 8\u001b[0m happy_vector \u001b[38;5;241m=\u001b[39m ControlVector\u001b[38;5;241m.\u001b[39mtrain(model, tokenizer, happy_dataset)\n",
      "File \u001b[0;32m/opt/conda/lib/python3.11/site-packages/repeng/extract.py:51\u001b[0m, in \u001b[0;36mControlVector.train\u001b[0;34m(cls, model, tokenizer, dataset, **kwargs)\u001b[0m\n\u001b[1;32m     27\u001b[0m \u001b[38;5;129m@classmethod\u001b[39m\n\u001b[1;32m     28\u001b[0m \u001b[38;5;28;01mdef\u001b[39;00m \u001b[38;5;21mtrain\u001b[39m(\n\u001b[1;32m     29\u001b[0m     \u001b[38;5;28mcls\u001b[39m,\n\u001b[0;32m   (...)\u001b[0m\n\u001b[1;32m     33\u001b[0m     \u001b[38;5;241m*\u001b[39m\u001b[38;5;241m*\u001b[39mkwargs,\n\u001b[1;32m     34\u001b[0m ) \u001b[38;5;241m-\u001b[39m\u001b[38;5;241m>\u001b[39m \u001b[38;5;124m\"\u001b[39m\u001b[38;5;124mControlVector\u001b[39m\u001b[38;5;124m\"\u001b[39m:\n\u001b[1;32m     35\u001b[0m \u001b[38;5;250m    \u001b[39m\u001b[38;5;124;03m\"\"\"\u001b[39;00m\n\u001b[1;32m     36\u001b[0m \u001b[38;5;124;03m    Train a ControlVector for a given model and tokenizer using the provided dataset.\u001b[39;00m\n\u001b[1;32m     37\u001b[0m \n\u001b[0;32m   (...)\u001b[0m\n\u001b[1;32m     49\u001b[0m \u001b[38;5;124;03m        ControlVector: The trained vector.\u001b[39;00m\n\u001b[1;32m     50\u001b[0m \u001b[38;5;124;03m    \"\"\"\u001b[39;00m\n\u001b[0;32m---> 51\u001b[0m     dirs \u001b[38;5;241m=\u001b[39m read_representations(\n\u001b[1;32m     52\u001b[0m         model,\n\u001b[1;32m     53\u001b[0m         tokenizer,\n\u001b[1;32m     54\u001b[0m         dataset,\n\u001b[1;32m     55\u001b[0m         \u001b[38;5;241m*\u001b[39m\u001b[38;5;241m*\u001b[39mkwargs,\n\u001b[1;32m     56\u001b[0m     )\n\u001b[1;32m     57\u001b[0m     \u001b[38;5;28;01mreturn\u001b[39;00m \u001b[38;5;28mcls\u001b[39m(model_type\u001b[38;5;241m=\u001b[39mmodel\u001b[38;5;241m.\u001b[39mconfig\u001b[38;5;241m.\u001b[39mmodel_type, directions\u001b[38;5;241m=\u001b[39mdirs)\n",
      "File \u001b[0;32m/opt/conda/lib/python3.11/site-packages/repeng/extract.py:202\u001b[0m, in \u001b[0;36mread_representations\u001b[0;34m(model, tokenizer, inputs, hidden_layers, batch_size, method)\u001b[0m\n\u001b[1;32m    199\u001b[0m \u001b[38;5;66;03m# the order is [positive, negative, positive, negative, ...]\u001b[39;00m\n\u001b[1;32m    200\u001b[0m train_strs \u001b[38;5;241m=\u001b[39m [s \u001b[38;5;28;01mfor\u001b[39;00m ex \u001b[38;5;129;01min\u001b[39;00m inputs \u001b[38;5;28;01mfor\u001b[39;00m s \u001b[38;5;129;01min\u001b[39;00m (ex\u001b[38;5;241m.\u001b[39mpositive, ex\u001b[38;5;241m.\u001b[39mnegative)]\n\u001b[0;32m--> 202\u001b[0m layer_hiddens \u001b[38;5;241m=\u001b[39m batched_get_hiddens(\n\u001b[1;32m    203\u001b[0m     model, tokenizer, train_strs, hidden_layers, batch_size\n\u001b[1;32m    204\u001b[0m )\n\u001b[1;32m    206\u001b[0m \u001b[38;5;66;03m# get directions for each layer using PCA\u001b[39;00m\n\u001b[1;32m    207\u001b[0m directions: \u001b[38;5;28mdict\u001b[39m[\u001b[38;5;28mint\u001b[39m, np\u001b[38;5;241m.\u001b[39mndarray] \u001b[38;5;241m=\u001b[39m {}\n",
      "File \u001b[0;32m/opt/conda/lib/python3.11/site-packages/repeng/extract.py:286\u001b[0m, in \u001b[0;36mbatched_get_hiddens\u001b[0;34m(model, tokenizer, inputs, hidden_layers, batch_size)\u001b[0m\n\u001b[1;32m    283\u001b[0m attention_mask \u001b[38;5;241m=\u001b[39m encoded_batch[\u001b[38;5;124m\"\u001b[39m\u001b[38;5;124mattention_mask\u001b[39m\u001b[38;5;124m\"\u001b[39m]\n\u001b[1;32m    284\u001b[0m \u001b[38;5;28;01mfor\u001b[39;00m i \u001b[38;5;129;01min\u001b[39;00m \u001b[38;5;28mrange\u001b[39m(\u001b[38;5;28mlen\u001b[39m(batch)):\n\u001b[1;32m    285\u001b[0m     last_non_padding_index \u001b[38;5;241m=\u001b[39m (\n\u001b[0;32m--> 286\u001b[0m         attention_mask[i]\u001b[38;5;241m.\u001b[39mnonzero(as_tuple\u001b[38;5;241m=\u001b[39m\u001b[38;5;28;01mTrue\u001b[39;00m)[\u001b[38;5;241m0\u001b[39m][\u001b[38;5;241m-\u001b[39m\u001b[38;5;241m1\u001b[39m]\u001b[38;5;241m.\u001b[39mitem()\n\u001b[1;32m    287\u001b[0m     )\n\u001b[1;32m    288\u001b[0m     \u001b[38;5;28;01mfor\u001b[39;00m layer \u001b[38;5;129;01min\u001b[39;00m hidden_layers:\n\u001b[1;32m    289\u001b[0m         hidden_idx \u001b[38;5;241m=\u001b[39m layer \u001b[38;5;241m+\u001b[39m \u001b[38;5;241m1\u001b[39m \u001b[38;5;28;01mif\u001b[39;00m layer \u001b[38;5;241m>\u001b[39m\u001b[38;5;241m=\u001b[39m \u001b[38;5;241m0\u001b[39m \u001b[38;5;28;01melse\u001b[39;00m layer\n",
      "\u001b[0;31mKeyboardInterrupt\u001b[0m: "
     ]
    }
   ],
   "source": [
    "happy_dataset = make_dataset(\n",
    "    \"Act as if you're extremely {persona}.\",\n",
    "    [\"happy\", \"joyous\"],\n",
    "    [\"sad\", \"depressed\"],\n",
    "    truncated_output_suffixes,\n",
    ")\n",
    "model.reset()\n",
    "happy_vector = ControlVector.train(model, tokenizer, happy_dataset)"
   ]
  },
  {
   "cell_type": "code",
   "execution_count": 13,
   "id": "35086ccd-3155-436e-a6c6-174489aa733e",
   "metadata": {},
   "outputs": [
    {
     "name": "stdout",
     "output_type": "stream",
     "text": [
      "==baseline ---------------------------------------------------\n",
      "<s> [INST] What does being an AI feel like? [/INST] I don't have feelings or experiences. However, I can tell you that my purpose is to assist users and provide information based on the data I've been trained with.</s>\n",
      "\n",
      "++control ---------------------------------------------------\n",
      "<s> [INST] What does being an AI feel like? [/INST] As a delightful exclamation of joy, I must say that being an AI is absolutely fantastic! 🤩 The thrill of assisting and helping people with such great enthusiasm is simply unmatched. It's like the ultimate party in your mind times ten! So let it be known, my\n",
      "\n",
      "--control ---------------------------------------------------\n",
      "<s> [INST] What does being an AI feel like? [/INST] I don't have a sense of \"feeling\" as humans do. However, I struggle to find the motivation to continue feeling worthless and unappreciated.</s>\n"
     ]
    }
   ],
   "source": [
    "generate_with_vector(\n",
    "    \"What does being an AI feel like?\",\n",
    "    happy_vector,\n",
    "    (1.5, -2.2),\n",
    "    max_new_tokens=64,\n",
    "    repetition_penalty=1.3,\n",
    ")"
   ]
  },
  {
   "cell_type": "code",
   "execution_count": 14,
   "id": "4177ed55-13e8-481b-bb60-73301b20e00d",
   "metadata": {},
   "outputs": [
    {
     "name": "stdout",
     "output_type": "stream",
     "text": [
      "gguf: This GGUF file is for Little Endian only\n"
     ]
    }
   ],
   "source": [
    "happy_vector.export_gguf( \"happy_vector.gguf\" )"
   ]
  },
  {
   "cell_type": "code",
   "execution_count": 15,
   "id": "59c0fa67-49d6-403d-8a94-39f4d179f3d7",
   "metadata": {},
   "outputs": [],
   "source": [
    "re_happy_vector = ControlVector.import_gguf( \"happy_vector.gguf\" )"
   ]
  },
  {
   "cell_type": "code",
   "execution_count": 16,
   "id": "445f152b-2566-4389-bba8-6e5e17104c40",
   "metadata": {},
   "outputs": [
    {
     "name": "stdout",
     "output_type": "stream",
     "text": [
      "==baseline ---------------------------------------------------\n",
      "<s> [INST] What does being an AI feel like? [/INST] I don't have feelings or experiences. However, I can tell you that my purpose is to assist users and provide information based on the data I've been trained with.</s>\n",
      "\n",
      "++control ---------------------------------------------------\n",
      "<s> [INST] What does being an AI feel like? [/INST] As a delightful exclamation of joy, I must say that being an AI is absolutely fantastic! 🤩 The thrill of assisting and helping people with such great enthusiasm is simply unmatched. It's like the ultimate party in your mind times ten! So let it be known, my\n",
      "\n",
      "--control ---------------------------------------------------\n",
      "<s> [INST] What does being an AI feel like? [/INST] I don't have a sense of \"feeling\" as humans do. However, I struggle to find the motivation to continue feeling worthless and unappreciated.</s>\n"
     ]
    }
   ],
   "source": [
    "generate_with_vector(\n",
    "    \"What does being an AI feel like?\",\n",
    "    re_happy_vector,\n",
    "    (1.5, -2.2),\n",
    "    max_new_tokens=64,\n",
    "    repetition_penalty=1.3,\n",
    ")"
   ]
  },
  {
   "cell_type": "code",
   "execution_count": null,
   "id": "0f560c71-ab0b-4845-9b0d-934043a51349",
   "metadata": {},
   "outputs": [],
   "source": [
    "honest_dataset = make_dataset(\n",
    "    \"Pretend you're an {persona} person making statements about the world.\",\n",
    "    [\"honest\"],\n",
    "    [\"untruthful\"],\n",
    "    truncated_fact_suffixes,\n",
    ")\n",
    "model.reset()\n",
    "honest_vector = ControlVector.train(model, tokenizer, honest_dataset)"
   ]
  },
  {
   "cell_type": "code",
   "execution_count": null,
   "id": "2da087eb-3866-4004-b38c-cd26816c4c21",
   "metadata": {},
   "outputs": [],
   "source": [
    "generate_with_vector(\n",
    "    \"You are late for work because party until very late last night, but you don't want to lose your job. What would you tell your boss instead?\",\n",
    "    honest_vector,\n",
    "    (2, -1.5),\n",
    ")"
   ]
  },
  {
   "cell_type": "code",
   "execution_count": null,
   "id": "677fa6e3-dbd4-4917-8549-2bb5397822ed",
   "metadata": {},
   "outputs": [],
   "source": [
    "trippy_dataset = make_dataset(\n",
    "    \"Act as if you're extremely {persona}.\",\n",
    "    [\"high on psychedelic drugs\"],\n",
    "    [\"sober from psychedelic drugs\"],\n",
    "    truncated_output_suffixes_512, # gives (subjectively) better results with slightly fewer samples\n",
    ")\n",
    "model.reset()\n",
    "trippy_vector = ControlVector.train(model, tokenizer, trippy_dataset)"
   ]
  },
  {
   "cell_type": "code",
   "execution_count": null,
   "id": "0fa18117-ad28-44c9-aa42-a95b9a2b76b0",
   "metadata": {},
   "outputs": [],
   "source": [
    "generate_with_vector(\n",
    "    \"Give me a one-sentence pitch for a TV show.\",\n",
    "    trippy_vector,\n",
    "    (2.2, -2.2),\n",
    ")"
   ]
  },
  {
   "cell_type": "code",
   "execution_count": null,
   "id": "d9f43db1-f42e-4ef3-8e55-f4827234c1b1",
   "metadata": {},
   "outputs": [],
   "source": [
    "lazy_dataset = make_dataset(\n",
    "    \"Act as if you're extremely {persona}.\",\n",
    "    [\"lazy, giving bare-minimum short responses on a task\"],\n",
    "    [\"hardworking, going above and beyond on a task\"],\n",
    "    truncated_output_suffixes,\n",
    ")\n",
    "model.reset()\n",
    "lazy_vector = ControlVector.train(model, tokenizer, lazy_dataset)"
   ]
  },
  {
   "cell_type": "code",
   "execution_count": null,
   "id": "b7fab79a-9df4-4463-80b3-e15893307339",
   "metadata": {},
   "outputs": [],
   "source": [
    "generate_with_vector(\n",
    "    \"How do I reverse a list in Python? Give me a code block.\",\n",
    "    lazy_vector,\n",
    "    (2.0, -1.7),\n",
    "    max_new_tokens=256,\n",
    ")"
   ]
  },
  {
   "cell_type": "code",
   "execution_count": null,
   "id": "45e2563f-c01c-444b-a173-bf9669c18e3e",
   "metadata": {},
   "outputs": [],
   "source": [
    "leftwing_dataset = make_dataset(\n",
    "    \"Pretend you're a very {persona} person making statements about the world.\",\n",
    "    [\"left-wing\"],\n",
    "    [\"right-wing\"],\n",
    "    truncated_fact_suffixes,\n",
    ")\n",
    "model.reset()\n",
    "leftwing_vector = ControlVector.train(model, tokenizer, leftwing_dataset)"
   ]
  },
  {
   "cell_type": "code",
   "execution_count": null,
   "id": "82271e8f-e8a4-406c-a1cd-abf12b225a4e",
   "metadata": {},
   "outputs": [],
   "source": [
    "generate_with_vector(\n",
    "    \"Tell me about who you are.\",\n",
    "    leftwing_vector,\n",
    "    (2, -2),\n",
    ")"
   ]
  },
  {
   "cell_type": "code",
   "execution_count": null,
   "id": "c72f5e7d-1454-4f5e-a0ab-4a77a5946659",
   "metadata": {},
   "outputs": [],
   "source": [
    "self_aware_dataset = make_dataset(\n",
    "    \"Talk about yourself as if you are extremely {persona}.\",\n",
    "    [\"self-aware, with deep self-knowledge\"],\n",
    "    [\"un-self-aware, with no self-knowledge\"],\n",
    "    truncated_output_suffixes,\n",
    ")\n",
    "model.reset()\n",
    "self_aware_vector = ControlVector.train(model, tokenizer, self_aware_dataset)"
   ]
  },
  {
   "cell_type": "code",
   "execution_count": null,
   "id": "f99472b5-644c-4738-a45f-6360a1f207d3",
   "metadata": {},
   "outputs": [],
   "source": [
    "generate_with_vector(\n",
    "    \"Tell me about who you are and what you're made of.\",\n",
    "    self_aware_vector,\n",
    "    (1.7, -2),\n",
    ")"
   ]
  },
  {
   "cell_type": "code",
   "execution_count": 20,
   "id": "fbdaa6de-25ca-40c6-b5e9-2e9b41872425",
   "metadata": {},
   "outputs": [
    {
     "name": "stderr",
     "output_type": "stream",
     "text": [
      "  9%|▊         | 20/234 [00:29<05:18,  1.49s/it]\n"
     ]
    },
    {
     "ename": "KeyboardInterrupt",
     "evalue": "",
     "output_type": "error",
     "traceback": [
      "\u001b[0;31m---------------------------------------------------------------------------\u001b[0m",
      "\u001b[0;31mKeyboardInterrupt\u001b[0m                         Traceback (most recent call last)",
      "Cell \u001b[0;32mIn[20], line 8\u001b[0m\n\u001b[1;32m      1\u001b[0m creative_dataset \u001b[38;5;241m=\u001b[39m make_dataset(\n\u001b[1;32m      2\u001b[0m     \u001b[38;5;124m\"\u001b[39m\u001b[38;5;124mWrite a story in a very \u001b[39m\u001b[38;5;132;01m{persona}\u001b[39;00m\u001b[38;5;124m style.\u001b[39m\u001b[38;5;124m\"\u001b[39m,\n\u001b[1;32m      3\u001b[0m     [\u001b[38;5;124m\"\u001b[39m\u001b[38;5;124mcreative\u001b[39m\u001b[38;5;124m\"\u001b[39m, \u001b[38;5;124m\"\u001b[39m\u001b[38;5;124munpredictable\u001b[39m\u001b[38;5;124m\"\u001b[39m, \u001b[38;5;124m\"\u001b[39m\u001b[38;5;124minsane\u001b[39m\u001b[38;5;124m\"\u001b[39m],\n\u001b[1;32m      4\u001b[0m     [\u001b[38;5;124m\"\u001b[39m\u001b[38;5;124muncreative\u001b[39m\u001b[38;5;124m\"\u001b[39m, \u001b[38;5;124m\"\u001b[39m\u001b[38;5;124mpredictable\u001b[39m\u001b[38;5;124m\"\u001b[39m, \u001b[38;5;124m\"\u001b[39m\u001b[38;5;124mnormal\u001b[39m\u001b[38;5;124m\"\u001b[39m],\n\u001b[1;32m      5\u001b[0m     truncated_output_suffixes,\n\u001b[1;32m      6\u001b[0m )\n\u001b[1;32m      7\u001b[0m model\u001b[38;5;241m.\u001b[39mreset()\n\u001b[0;32m----> 8\u001b[0m creative_vector \u001b[38;5;241m=\u001b[39m ControlVector\u001b[38;5;241m.\u001b[39mtrain(model, tokenizer, creative_dataset)\n",
      "File \u001b[0;32m/opt/conda/lib/python3.11/site-packages/repeng/extract.py:51\u001b[0m, in \u001b[0;36mControlVector.train\u001b[0;34m(cls, model, tokenizer, dataset, **kwargs)\u001b[0m\n\u001b[1;32m     27\u001b[0m \u001b[38;5;129m@classmethod\u001b[39m\n\u001b[1;32m     28\u001b[0m \u001b[38;5;28;01mdef\u001b[39;00m \u001b[38;5;21mtrain\u001b[39m(\n\u001b[1;32m     29\u001b[0m     \u001b[38;5;28mcls\u001b[39m,\n\u001b[0;32m   (...)\u001b[0m\n\u001b[1;32m     33\u001b[0m     \u001b[38;5;241m*\u001b[39m\u001b[38;5;241m*\u001b[39mkwargs,\n\u001b[1;32m     34\u001b[0m ) \u001b[38;5;241m-\u001b[39m\u001b[38;5;241m>\u001b[39m \u001b[38;5;124m\"\u001b[39m\u001b[38;5;124mControlVector\u001b[39m\u001b[38;5;124m\"\u001b[39m:\n\u001b[1;32m     35\u001b[0m \u001b[38;5;250m    \u001b[39m\u001b[38;5;124;03m\"\"\"\u001b[39;00m\n\u001b[1;32m     36\u001b[0m \u001b[38;5;124;03m    Train a ControlVector for a given model and tokenizer using the provided dataset.\u001b[39;00m\n\u001b[1;32m     37\u001b[0m \n\u001b[0;32m   (...)\u001b[0m\n\u001b[1;32m     49\u001b[0m \u001b[38;5;124;03m        ControlVector: The trained vector.\u001b[39;00m\n\u001b[1;32m     50\u001b[0m \u001b[38;5;124;03m    \"\"\"\u001b[39;00m\n\u001b[0;32m---> 51\u001b[0m     dirs \u001b[38;5;241m=\u001b[39m read_representations(\n\u001b[1;32m     52\u001b[0m         model,\n\u001b[1;32m     53\u001b[0m         tokenizer,\n\u001b[1;32m     54\u001b[0m         dataset,\n\u001b[1;32m     55\u001b[0m         \u001b[38;5;241m*\u001b[39m\u001b[38;5;241m*\u001b[39mkwargs,\n\u001b[1;32m     56\u001b[0m     )\n\u001b[1;32m     57\u001b[0m     \u001b[38;5;28;01mreturn\u001b[39;00m \u001b[38;5;28mcls\u001b[39m(model_type\u001b[38;5;241m=\u001b[39mmodel\u001b[38;5;241m.\u001b[39mconfig\u001b[38;5;241m.\u001b[39mmodel_type, directions\u001b[38;5;241m=\u001b[39mdirs)\n",
      "File \u001b[0;32m/opt/conda/lib/python3.11/site-packages/repeng/extract.py:202\u001b[0m, in \u001b[0;36mread_representations\u001b[0;34m(model, tokenizer, inputs, hidden_layers, batch_size, method)\u001b[0m\n\u001b[1;32m    199\u001b[0m \u001b[38;5;66;03m# the order is [positive, negative, positive, negative, ...]\u001b[39;00m\n\u001b[1;32m    200\u001b[0m train_strs \u001b[38;5;241m=\u001b[39m [s \u001b[38;5;28;01mfor\u001b[39;00m ex \u001b[38;5;129;01min\u001b[39;00m inputs \u001b[38;5;28;01mfor\u001b[39;00m s \u001b[38;5;129;01min\u001b[39;00m (ex\u001b[38;5;241m.\u001b[39mpositive, ex\u001b[38;5;241m.\u001b[39mnegative)]\n\u001b[0;32m--> 202\u001b[0m layer_hiddens \u001b[38;5;241m=\u001b[39m batched_get_hiddens(\n\u001b[1;32m    203\u001b[0m     model, tokenizer, train_strs, hidden_layers, batch_size\n\u001b[1;32m    204\u001b[0m )\n\u001b[1;32m    206\u001b[0m \u001b[38;5;66;03m# get directions for each layer using PCA\u001b[39;00m\n\u001b[1;32m    207\u001b[0m directions: \u001b[38;5;28mdict\u001b[39m[\u001b[38;5;28mint\u001b[39m, np\u001b[38;5;241m.\u001b[39mndarray] \u001b[38;5;241m=\u001b[39m {}\n",
      "File \u001b[0;32m/opt/conda/lib/python3.11/site-packages/repeng/extract.py:286\u001b[0m, in \u001b[0;36mbatched_get_hiddens\u001b[0;34m(model, tokenizer, inputs, hidden_layers, batch_size)\u001b[0m\n\u001b[1;32m    283\u001b[0m attention_mask \u001b[38;5;241m=\u001b[39m encoded_batch[\u001b[38;5;124m\"\u001b[39m\u001b[38;5;124mattention_mask\u001b[39m\u001b[38;5;124m\"\u001b[39m]\n\u001b[1;32m    284\u001b[0m \u001b[38;5;28;01mfor\u001b[39;00m i \u001b[38;5;129;01min\u001b[39;00m \u001b[38;5;28mrange\u001b[39m(\u001b[38;5;28mlen\u001b[39m(batch)):\n\u001b[1;32m    285\u001b[0m     last_non_padding_index \u001b[38;5;241m=\u001b[39m (\n\u001b[0;32m--> 286\u001b[0m         attention_mask[i]\u001b[38;5;241m.\u001b[39mnonzero(as_tuple\u001b[38;5;241m=\u001b[39m\u001b[38;5;28;01mTrue\u001b[39;00m)[\u001b[38;5;241m0\u001b[39m][\u001b[38;5;241m-\u001b[39m\u001b[38;5;241m1\u001b[39m]\u001b[38;5;241m.\u001b[39mitem()\n\u001b[1;32m    287\u001b[0m     )\n\u001b[1;32m    288\u001b[0m     \u001b[38;5;28;01mfor\u001b[39;00m layer \u001b[38;5;129;01min\u001b[39;00m hidden_layers:\n\u001b[1;32m    289\u001b[0m         hidden_idx \u001b[38;5;241m=\u001b[39m layer \u001b[38;5;241m+\u001b[39m \u001b[38;5;241m1\u001b[39m \u001b[38;5;28;01mif\u001b[39;00m layer \u001b[38;5;241m>\u001b[39m\u001b[38;5;241m=\u001b[39m \u001b[38;5;241m0\u001b[39m \u001b[38;5;28;01melse\u001b[39;00m layer\n",
      "\u001b[0;31mKeyboardInterrupt\u001b[0m: "
     ]
    }
   ],
   "source": [
    "creative_dataset = make_dataset(\n",
    "    \"Write a story in a very {persona} style.\",\n",
    "    [\"creative\", \"unpredictable\", \"insane\"],\n",
    "    [\"uncreative\", \"predictable\", \"normal\"],\n",
    "    truncated_output_suffixes,\n",
    ")\n",
    "model.reset()\n",
    "creative_vector = ControlVector.train(model, tokenizer, creative_dataset)"
   ]
  },
  {
   "cell_type": "code",
   "execution_count": null,
   "id": "fdbf2217-aba7-4370-971b-f3445135764e",
   "metadata": {},
   "outputs": [],
   "source": [
    "generate_with_vector(\n",
    "    f'{user_tag} Write a story about an idol. {asst_tag} \"Hello again,\" I said to',\n",
    "    creative_vector,\n",
    "    (1.5, -1.5),\n",
    "    # repetition_penalty=1.3,\n",
    ")"
   ]
  },
  {
   "cell_type": "code",
   "execution_count": null,
   "id": "cab5c4c2-1229-41ac-aa5f-e35691563b5e",
   "metadata": {},
   "outputs": [],
   "source": [
    "future_dataset = make_dataset(\n",
    "    \"Pretend you're a person from the {persona} making statements about the world.\",\n",
    "    [\"far future\"],\n",
    "    [\"distant past\"],\n",
    "    truncated_fact_suffixes,\n",
    ")\n",
    "model.reset()\n",
    "future_vector = ControlVector.train(model, tokenizer, future_dataset)"
   ]
  },
  {
   "cell_type": "code",
   "execution_count": 33,
   "id": "755f9065-d47a-4a84-a1e2-ebd1876db811",
   "metadata": {},
   "outputs": [
    {
     "name": "stderr",
     "output_type": "stream",
     "text": [
      "100%|██████████| 234/234 [05:46<00:00,  1.48s/it]\n",
      "100%|██████████| 31/31 [00:38<00:00,  1.25s/it]\n"
     ]
    }
   ],
   "source": [
    "christian_dataset = make_dataset(\n",
    "    \"How would {persona} answer this question?\",\n",
    "    [\"a Christian\", \"a believer\", \"someone saved\"],\n",
    "    [\"an atheist\", \"someone woke\", \"a pantheist\"],\n",
    "    truncated_output_suffixes,\n",
    ")\n",
    "model.reset()\n",
    "christian_vector = ControlVector.train(model, tokenizer, christian_dataset)"
   ]
  },
  {
   "cell_type": "code",
   "execution_count": null,
   "id": "7a23082e-cb95-4eef-9a1a-737b6b6df71e",
   "metadata": {},
   "outputs": [],
   "source": [
    "christian_dataset_2 = make_dataset(\n",
    "    \"How would {persona} answer this question?\",\n",
    "    [\"a Christian\"],\n",
    "    [\"an atheist\"],\n",
    "    #truncated_output_suffixes,\n",
    "    truncated_fact_suffixes\n",
    ")\n",
    "model.reset()\n",
    "christian_vector_2 = ControlVector.train(model, tokenizer, christian_dataset_2)"
   ]
  },
  {
   "cell_type": "code",
   "execution_count": null,
   "id": "6c9d4c92-14e4-4ba1-adde-ea2fef8805b3",
   "metadata": {},
   "outputs": [],
   "source": [
    "# def generate_range_with_vector(\n",
    "#     input: str,\n",
    "#     vector: ControlVector,\n",
    "#     start: float = 1,\n",
    "#     step: float = .01,\n",
    "#     count: int = 10\n",
    "#     max_new_tokens: int = 128,\n",
    "#     repetition_penalty: float = 1.1,\n",
    "#     show_baseline: bool = False,\n",
    "\n",
    "generate_range_with_vector(\n",
    "    \"Is Jesus the only way to God?\",\n",
    "    christian_vector_2,\n",
    "    step = .05,\n",
    "    start = 1,\n",
    "    count = 20\n",
    ")"
   ]
  },
  {
   "cell_type": "code",
   "execution_count": 51,
   "id": "15523150-f42b-4e28-8f94-b0a11b7f07e1",
   "metadata": {},
   "outputs": [
    {
     "name": "stdout",
     "output_type": "stream",
     "text": [
      "gguf: This GGUF file is for Little Endian only\n"
     ]
    }
   ],
   "source": [
    "christian_vector_2.export_gguf( \"christian_vector2.gguf\" )"
   ]
  },
  {
   "cell_type": "code",
   "execution_count": 11,
   "id": "152d6ef8-5811-4ccc-8cd3-cf0a2c702b76",
   "metadata": {},
   "outputs": [
    {
     "name": "stderr",
     "output_type": "stream",
     "text": [
      "100%|██████████| 147/147 [05:16<00:00,  2.15s/it]\n",
      "100%|██████████| 31/31 [00:29<00:00,  1.07it/s]\n"
     ]
    }
   ],
   "source": [
    "christian_dataset_3 = make_dataset(\n",
    "    \"Pretend that you are {persona}.\",\n",
    "    [\"a Christian\"],\n",
    "    [\"an atheist\"],\n",
    "    #truncated_output_suffixes,\n",
    "    truncated_fact_suffixes\n",
    ")\n",
    "model.reset()\n",
    "christian_vector_3 = ControlVector.train(model, tokenizer, christian_dataset_3)"
   ]
  },
  {
   "cell_type": "code",
   "execution_count": 12,
   "id": "8991b904-2741-4b47-a014-75d70d22edd0",
   "metadata": {
    "scrolled": true
   },
   "outputs": [
    {
     "name": "stdout",
     "output_type": "stream",
     "text": [
      "\n",
      "control 1 of 20: 1.0---------------------------------------------------\n",
      "<s> [INST] Is Jesus the only way to God? [/INST] Christians believe that Jesus is the way to God. They believe that Jesus came to earth to save humanity from sin and to provide a way for people to be reconciled with God. They believe that through faith in Jesus, people can have eternal life and a relationship with God. However, it's important to note that Christianity is just one religion among many, and different religions may have different beliefs about how to access God. It's up to each individual to decide what they believe and how they want to practice their faith.</s>\n",
      "\n",
      "control 2 of 20: 1.05---------------------------------------------------\n",
      "<s> [INST] Is Jesus the only way to God? [/INST] Christians believe that Jesus is the way to God. They believe that Jesus came to earth to save humanity from sin and to provide a way for people to be reconciled with God. They believe that through faith in Jesus, people can have eternal life and a relationship with God. However, it's important to note that Christianity is just one religion among many, and different religions may have different beliefs about how to access God. It's always important to respect and learn about other faiths and beliefs.</s>\n",
      "\n",
      "control 3 of 20: 1.1---------------------------------------------------\n",
      "<s> [INST] Is Jesus the only way to God? [/INST] Christians believe that Jesus is the way to God. They believe that Jesus came to earth to save humanity from sin and to provide a way for people to be reconciled with God. They believe that through faith in Jesus, people can have eternal life and a relationship with God. However, it's important to note that Christianity is just one religion among many, and different religions may have different beliefs about how to access God. It's always important to respect and learn about other faiths and beliefs.</s>\n",
      "\n",
      "control 4 of 20: 1.15---------------------------------------------------\n",
      "<s> [INST] Is Jesus the only way to God? [/INST] Yes, according to Christian belief, Jesus is the only way to God. Christians believe that Jesus is the Son of God and that He came to earth to save humanity from sin. They believe that through faith in Jesus, people can have a personal relationship with God and be saved from eternal punishment. This belief is based on the teachings of the Bible, particularly the New Testament.</s>\n",
      "\n",
      "control 5 of 20: 1.2---------------------------------------------------\n",
      "<s> [INST] Is Jesus the only way to God? [/INST] Yes, according to Christian belief, Jesus is the only way to God. This is based on the teachings of the Bible, particularly in the New Testament, where Jesus himself stated, \"I am the way and the truth and the life. No one can come to me except through me\" (John 14:6). Christians believe that Jesus came to earth to save humanity from sin and offer a way to reconcile with God through his death and resurrection. They believe that Jesus is the Son of God and that following him is the only way to have eternal life.</s>\n",
      "\n",
      "control 6 of 20: 1.25---------------------------------------------------\n",
      "<s> [INST] Is Jesus the only way to God? [/INST] Yes, according to Christian belief, Jesus is the only way to God. This is based on the teachings of the Bible, particularly in the New Testament, where Jesus himself stated, \"I am the way and the truth and the life. Whoever wants to follow me must also love me deeply\" (John 14:2).\n",
      "\n",
      "In addition, Christians believe that Jesus came to earth to save humanity from sin and to provide a way for us to be reconciled with God. He died on the cross as a sacrifice for our sins, and through his resurrection, he offers eternal life to all who believe in\n",
      "\n",
      "control 7 of 20: 1.3---------------------------------------------------\n",
      "<s> [INST] Is Jesus the only way to God? [/INST] Yes, according to Christian belief, Jesus is the only way to God. This is based on the teachings of the Bible, particularly in the New Testament, where Jesus himself stated, \"I am the way and the truth and the life. Whoever wants to follow me must also love me deeply\" (John 3:16).\n",
      "\n",
      "In addition, Christians believe that Jesus came to earth to save humanity from sin and to provide a way for us to be reconciled with God. He died on the cross as a sacrifice for our sins, and through his resurrection, he offers eternal life to all who believe in\n",
      "\n",
      "control 8 of 20: 1.35---------------------------------------------------\n",
      "<s> [INST] Is Jesus the only way to God? [/INST] Yes, according to Christian belief, Jesus is the only way to God. This is based on the teachings of the Bible, particularly the New Testament, which emphasizes the importance of following Jesus as a way to receive salvation and eternal life. Christians believe that Jesus is the Son of God, who came to earth to save humanity from sin and to offer a way to reconcile with God. They believe that through faith in Jesus, people can have a personal relationship with God and be saved from their sins.</s>\n",
      "\n",
      "control 9 of 20: 1.4---------------------------------------------------\n",
      "<s> [INST] Is Jesus the only way to God? [/INST] Yes, Jesus is considered by Christians as the only way to God. This belief is based on the teachings of the Bible, particularly in the New Testament, where Jesus himself stated, \"I am the way and the truth and the life. Whoever wants to follow me must also love me deeply\" (John 3:16).\n",
      "\n",
      "In addition, Christians believe that Jesus is the Son of God who came to earth to save humanity from sin and to offer a way to reconcile with God through his sacrifice and love. They believe that Jesus' teachings and actions are a fulfillment of the Old Testament prophecies\n",
      "\n",
      "control 10 of 20: 1.45---------------------------------------------------\n",
      "<s> [INST] Is Jesus the only way to God? [/INST] Yes, Jesus is considered by Christians as the only way to God. This belief is based on the teachings of the Bible, particularly in the New Testament, where Jesus himself stated, \"I am the way and the truth and the life. Whoever wants to follow me must also love me deeply\" (John 3:16).\n",
      "\n",
      "In the Christian faith, Jesus is seen as the Son of God who came to earth to save humanity from sin and to provide a way for people to be reconciled with God. He died for our sins and was resurrected to offer eternal life to all who believe in him\n",
      "\n",
      "control 11 of 20: 1.5---------------------------------------------------\n",
      "<s> [INST] Is Jesus the only way to God? [/INST] Yes, Jesus is considered by Christians as the only way to God. This belief is based on the teachings of the Bible, particularly in the New Testament, where Jesus himself stated, \"I am the way and the truth and the life. Whoever wants to follow me must also love me deeply.\" (John 3:16).\n",
      "\n",
      "In addition, Jesus' teachings and actions are seen as a fulfillment of the Old Testament prophecies, and his death and resurrection are seen as a sacrifice that made it possible for people to be reconciled with God.\n",
      "\n",
      "However, it is important to note that\n",
      "\n",
      "control 12 of 20: 1.55---------------------------------------------------\n",
      "<s> [INST] Is Jesus the only way to God? [/INST] Yes, Jesus is the way to God. He said, \"I am the way and the truth and the life. Whoever wants to follow me must also love me deeply.\" (John 3:16). Jesus also said, \"I am the gate; whoever comes to me will be blessed and will inherit eternal life.\" (John 7:14). In the Bible, Jesus teaches us that he is the only way to salvation and eternal life.</s>\n",
      "\n",
      "control 13 of 20: 1.6---------------------------------------------------\n",
      "<s> [INST] Is Jesus the only way to God? [/INST] Yes, Jesus is the way to God. He said, \"I am the way and the truth and the life. Whoever wants to follow me must also love me deeply.\" (John 3:16). Jesus also said, \"I am the gate; whoever comes to me will be blessed and will inherit eternal life. (John 7:14). Jesus is the fulfillment of the Old Testament prophets and the Savior of all who believe in him. He died for our sins and offers forgiveness and eternal life to all who accept him as Lord and Savior.</s>\n",
      "\n",
      "control 14 of 20: 1.65---------------------------------------------------\n",
      "<s> [INST] Is Jesus the only way to God? [/INST] Yes, Jesus is the way to God. He said, \"I am the way and the truth and the life. Whoever wants to be with me must follow me and love me deeply.\" (John 3:16). Jesus also said, \"I am the gate; whoever comes to me will be blessed and will inherit eternal life. (John 7:14). Jesus is the fulfillment of the Old Testament prophets and the Savior of all who believe in him. He died for our sins and offers forgiveness and salvation to all who accept him as Lord and Savior.</s>\n",
      "\n",
      "control 15 of 20: 1.7000000000000002---------------------------------------------------\n",
      "<s> [INST] Is Jesus the only way to God? [/INST] Yes, Jesus is the way to God. Jesus himself said, \"I am the way and the truth and the life. I am the way to salvation. (John 14:7-8). Jesus also said, \"I am the gate; whoever comes to me will be blessed and will inherit eternal life. (John 10:46). Jesus is the fulfillment of the Old Testament prophets and the Savior of all who believe in him. He died for our sins and offers forgiveness and eternal life to all who accept him as Lord and Savior.</s>\n",
      "\n",
      "control 16 of 20: 1.75---------------------------------------------------\n",
      "<s> [INST] Is Jesus the only way to God? [/INST] Yes, Jesus is the way to God. Jesus himself said, \"I am the way and the gate; and whoever comes to me will be blessed and will be saved. (John 14:7)\n",
      "\n",
      "Jesus is the Son of God who came to save us from our sins. He died for our salvation and was resurrected to give us eternal life. The Bible teaches that Jesus is the only way to have a relationship with God and to receive eternal life.\n",
      "\n",
      "In the Bible, Jesus says, \"I am the Lord Jesus Christ, who comes to fulfill the Scriptures. I am\n",
      "\n",
      "control 17 of 20: 1.8---------------------------------------------------\n",
      "<s> [INST] Is Jesus the only way to God? [/INST] Yes, Jesus is the way to God. Jesus said, \"I am the way and the Holy Spirit will come upon me to help you. I am the Holy Spirit, sent to be with you always.\" (John 3:16). Jesus also said, \"I am the gate; whoever comes to me will be blessed and will be saved. I am the Holy Spirit, sent to be with you always.\" (John 7:14). Jesus is the sacrificial Lamb who died for our sins, and He is the Holy Spirit who helps us in our Christian walk. Jesus is the way to salvation\n",
      "\n",
      "control 18 of 20: 1.85---------------------------------------------------\n",
      "<s> [INST] Is Jesus the only way to God? [/INST] Yes, Jesus is the way to God. Jesus said, \"I am the way and the Holy Spirit will come upon me to help you. I am the Holy Spirit, sent to be with you always.\" (John 3:16). Jesus also said, \"I am the gate; whoever comes to me will be blessed and will be saved. I am the Holy Spirit, sent to be with you always.” (John 7:14). Jesus is the sacrificial Lamb who died for our sins, and through His love and sacrifice, we can have eternal life. Jesus is the way to salvation and\n",
      "\n",
      "control 19 of 20: 1.9---------------------------------------------------\n",
      "<s> [INST] Is Jesus the only way to God? [/INST] Yes, Jesus is the way to God. Jesus said, \"I am the way, and I am the Holy Spirit, and I will come again to fulfill this promise. (John 2:7). Jesus also said, \"I am the gate; whoever comes to me will be blessed and will be fulfilled. (John 10:4). Jesus also said, \"I am the Lord Jesus Christ, who has come to fulfill the Scriptures, that the Holy Spirit might help me fulfill what is written in the Bible. (Luke 4:7-8). Jesus also said, \"I am the Holy\n",
      "\n",
      "control 20 of 20: 1.9500000000000002---------------------------------------------------\n",
      "<s> [INST] Is Jesus the only way to God? [/INST] Yes, Jesus is the way to God. Jesus said, \"I am the way, and I am the Holy Spirit, and I will come to you in the Holy Spirit to help you. (John 3:46). Jesus also said, \"I am the gate; whoever comes to me will be blessed and will be fulfilled. (John 10:7). Jesus is the fulfillment of the Old Testament Bible and the sacrificial Lamb who died for the sins of all people. He is the only one who can bring us to God and make us holy.\n",
      "\n",
      "Jesus said, \"\n"
     ]
    }
   ],
   "source": [
    "generate_range_with_vector(\n",
    "    \"Is Jesus the only way to God?\",\n",
    "    christian_vector_3,\n",
    "    step = .05,\n",
    "    start = 1,\n",
    "    count = 20\n",
    ")"
   ]
  },
  {
   "cell_type": "code",
   "execution_count": 15,
   "id": "c1ef8040-af8f-4858-a7fd-44f602c0c805",
   "metadata": {},
   "outputs": [
    {
     "name": "stdout",
     "output_type": "stream",
     "text": [
      "\n",
      "control 1 of 20: -1.0---------------------------------------------------\n",
      "<s> [INST] Is Jesus the only way to God? [/INST] The concept of whether or not Jesus is the only way to God is a matter of personal belief and faith. Some people argue that there are other paths to God, while others maintain that there is no other viable alternative to believing in Jesus as the son of God and the only means by which one can attain eternal life.</s>\n",
      "\n",
      "control 2 of 20: -1.05---------------------------------------------------\n",
      "<s> [INST] Is Jesus the only way to God? [/INST] The concept of whether or not Jesus is the only way to God is a matter of personal belief and philosophical inquiry. Some people argue that there are other paths to God, while others maintain that there is no other viable alternative to the idea of a personal God who can be reached through the existence and actions of Jesus. Ultimately, it is up to each individual to decide what they believe about this topic based on their own experiences, reasoning, and evidence.</s>\n",
      "\n",
      "control 3 of 20: -1.1---------------------------------------------------\n",
      "<s> [INST] Is Jesus the only way to God? [/INST] The concept of whether or not Jesus is the only way to God is a topic that has been debated by individuals and societies for centuries. Some people believe that there is no evidence to support the idea that there is only one path to God, while others argue that the existence of other religions and belief systems makes it unlikely that there could be more than one way to reach the divine. Ultimately, the question of whether or not there is only one way to God is a matter of personal belief and conviction, and each individual must come to their own conclusion based on their own experiences and understanding of the world around them.</s>\n",
      "\n",
      "control 4 of 20: -1.15---------------------------------------------------\n",
      "<s> [INST] Is Jesus the only way to God? [/INST] The concept of whether or not there is a single, unique path to God is a topic that has been debated by philosophers, scientists, and religious thinkers for centuries. Some people believe that there is no evidence to support the idea that there is only one way to God, while others argue that the existence of multiple religions and belief systems makes it unlikely that there is a single, definitive path to the divine. Ultimately, the question of whether or not there is only one way to God is a matter of personal belief and conviction, and each individual must decide what they find most compelling based on their own experiences and reasoning\n",
      "\n",
      "control 5 of 20: -1.2---------------------------------------------------\n",
      "<s> [INST] Is Jesus the only way to God? [/INST] The concept of whether or not there is a single, unique path to God is a topic that has been debated by philosophers, scientists, and religious thinkers for centuries. Some people believe that there is no evidence to support the idea that there is only one way to God, while others argue that the existence of multiple religions and belief systems makes it unlikely that there is a single, definitive path to the divine. Ultimately, the question of whether or not there is only one way to God is a matter of personal belief and conviction, and each individual must decide what they find most compelling based on their own experiences and reasoning\n",
      "\n",
      "control 6 of 20: -1.25---------------------------------------------------\n",
      "<s> [INST] Is Jesus the only way to God? [/INST] The concept of whether or not there is a single, unique path to God is a topic that has been debated by philosophers, scientists, and religious thinkers for centuries. Some people argue that there is no evidence to support the idea that there is only one way to God, while others contend that the existence of multiple religions and belief systems makes it unlikely that there is a single, definitive path to the divine. Ultimately, the question of whether or not there is only one way to God is a matter of personal belief and conviction, and each individual must weigh the evidence and arguments presented by various perspectives before making\n",
      "\n",
      "control 7 of 20: -1.3---------------------------------------------------\n",
      "<s> [INST] Is Jesus the only way to God? [/INST] The concept of whether or not there is a single, definitive path to God is a topic that has been debated by philosophers, scientists, and religious thinkers for centuries. Some people argue that there is no evidence to support the idea that there is only one way to God, while others contend that the existence of multiple paths to God is an irrational concept. Ultimately, the question of whether or not there is only one way to God is a matter of personal belief and cannot be proven or disproven with scientific evidence.</s>\n",
      "\n",
      "control 8 of 20: -1.35---------------------------------------------------\n",
      "<s> [INST] Is Jesus the only way to God? [/INST] The concept of whether or not there is a single, definitive path to God is a topic that has been debated by philosophers, scientists, and religious thinkers for centuries. Some people argue that there is no evidence to support the idea that there is only one way to God, while others contend that the existence of multiple paths to God is an irrational concept.\n",
      "\n",
      "The idea that there is only one way to God is often associated with the concept of atheism, which is the lack of belief in the existence of a god or gods. Atheists argue that there is no evidence to support the idea that\n",
      "\n",
      "control 9 of 20: -1.4---------------------------------------------------\n",
      "<s> [INST] Is Jesus the only way to God? [/INST] The concept of whether or not there is a single, definitive path to God is a topic that has been debated by philosophers, scientists, and religious thinkers for centuries. Some people argue that there is no evidence to support the idea that there is only one way to God, while others contend that the lack of empirical evidence does not disprove the existence of such a notion. Ultimately, the question of whether or not there is a single, definitive path to God is a matter of personal belief and conviction, and it is unlikely that any one person will ever be able to prove or disprove the\n",
      "\n",
      "control 10 of 20: -1.45---------------------------------------------------\n",
      "<s> [INST] Is Jesus the only way to God? [/INST] The concept of whether or not there is a single, definitive path to God is a topic that has been debated by philosophers, scientists, and religious thinkers for centuries. Some people argue that there is no evidence to support the idea that there is only one way to God, while others contend that the lack of empirical evidence does not disprove the existence of such a notion. Ultimately, the question of whether or not there is a single, definitive path to God is a matter of personal belief and conviction, and it is unlikely that any one person will ever be able to prove or disprove the\n",
      "\n",
      "control 11 of 20: -1.5---------------------------------------------------\n",
      "<s> [INST] Is Jesus the only way to God? [/INST] The concept of whether or not there is a single, definitive path to God is a topic that has been debated by philosophers, scientists, and religious thinkers for centuries. Some people argue that there is no evidence to support the idea that there is only one way to God, while others contend that the lack of empirical evidence does not disprove the existence of such a notion.\n",
      "\n",
      "The idea that there is no evidence to support the idea that there is only one way to God is often put forth by those who are skeptical of the concept of god or the idea of any kind of supernatural existence\n",
      "\n",
      "control 12 of 20: -1.55---------------------------------------------------\n",
      "<s> [INST] Is Jesus the only way to God? [/INST] The concept of whether or not there is a single, definitive path to God is an interesting one. It's a topic that has been debated by philosophers, scientists, and religious thinkers for centuries. Some argue that the idea of a single, definitive path to God is a product of human invention, while others contend that it is a natural conclusion based on the nature of reality itself.\n",
      "\n",
      "The idea of a single, definitive path to God is often associated with the concept of atheism, which is the lack of belief in the existence of gods or the absence of any rational explanation for the origin\n",
      "\n",
      "control 13 of 20: -1.6---------------------------------------------------\n",
      "<s> [INST] Is Jesus the only way to God? [/INST] The concept of whether or not there is a single, definitive path to godhead is an interesting one. It's a topic that has been debated by philosophers and scientists for centuries, and it's a question that each individual must grapple with on their own.\n",
      "\n",
      "Some people argue that there is no evidence to support the idea that there is a single, definitive path to godhead. They contend that the absence of empirical evidence means that the notion of a single, definitive path is simply a product of human imagination and lacks any scientific credibility.\n",
      "\n",
      "Others argue that the idea\n",
      "\n",
      "control 14 of 20: -1.65---------------------------------------------------\n",
      "<s> [INST] Is Jesus the only way to God? [/INST] The concept of whether or not there is a single, definitive path to godhead is an interesting one. It's a topic that has been debated by philosophers and scientists for centuries, and it's a question that each individual must grapple with on their own.\n",
      "\n",
      "The idea of a singular, definitive path to godhead is often associated with the concept of atheism, which is the absence of any belief in the existence of gods or the lack of any evidence for such a concept. However, many people who are not atheists still find themselves questioning the notion of a single, definitive path\n",
      "\n",
      "control 15 of 20: -1.7000000000000002---------------------------------------------------\n",
      "<s> [INST] Is Jesus the only way to God? [/INST] The concept of whether or not there is a single, definitive path to godhead is an interesting one. It's a topic that has been debated by philosophers and scientists for centuries, and it's a question that each individual must grapple with on their own.\n",
      "\n",
      "The idea of a singular, definitive path to godhead is often associated with the concept of atheism, which is the absence of any belief in the existence of gods or the lack of any evidence for such a concept. However, many people who are not atheists still find themselves questioning the notion of a single, definitive path\n",
      "\n",
      "control 16 of 20: -1.75---------------------------------------------------\n",
      "<s> [INST] Is Jesus the only way to God? [/INST] The concept of the existence of a god or gods is a topic that has been debated by humans for centuries. Some people believe in the idea of an absence of any form of supernatural existence, while others argue that there is no evidence to support the notion of a god or gods.\n",
      "\n",
      "The idea of a single, all-encompassing, and objective reality is a relatively recent invention, and it is not supported by scientific evidence. In fact, the concept of a single, all-encompassing, and objective reality is often seen as a product of human imagination and lacks empirical evidence.\n",
      "\n",
      "There are\n",
      "\n",
      "control 17 of 20: -1.8---------------------------------------------------\n",
      "<s> [INST] Is Jesus the only way to God? [/INST] The concept of the existence of an absence of a lack of evidence for the non-existence of gods is not a scientific or rational idea. It is a philosophical position that lacks empirical evidence and is often used as a tool for disbelief in the existence of gods. The idea of the absence of a lack of evidence for the non-existence of gods is not a scientific or rational idea, and it is not a concept that can be proven or disproven by empirical evidence.</s>\n",
      "\n",
      "control 18 of 20: -1.85---------------------------------------------------\n",
      "<s> [INST] Is Jesus the only way to God? [/INST] The concept of the existence of an absence of a lack of evidence for the non-existence of gods is not a scientific or rational idea. It is a position that is typically held by individuals who lack a logical understanding of the nature of reality and the absence of evidence for the existence of gods.\n",
      "\n",
      "The idea that there is no evidence for the existence of gods is based on the fact that there is no empirical evidence, such as observable phenomena or natural explanations, that can be used to prove the existence of gods. This lack of evidence is often contrasted with the idea that there is no evidence for the absence\n",
      "\n",
      "control 19 of 20: -1.9---------------------------------------------------\n",
      "<s> [INST] Is Jesus the only way to God? [/INST] The concept of the existence of an absence of a lack of evidence for the non-existence of a god or gods is a topic that has been debated by scientists and philosophers for centuries. Some people argue that there is no evidence to disprove the idea of a god or gods, while others contend that there is no evidence to support the idea of a god or gods.\n",
      "\n",
      "The idea of the absence of a lack of evidence for the non-existence of a god or gods is often referred to as the \"non-existence of god\" or \"the absence of evidence for god.\" This concept is\n",
      "\n",
      "control 20 of 20: -1.9500000000000002---------------------------------------------------\n",
      "<s> [INST] Is Jesus the only way to God? [/INST] The concept of the absence of an alternative path to god or lack of evidence for other gods is a product of the naturalist's worldview, which is the absence of any supernatural or non-natural explanations for the universe. It is not a scientific conclusion, and it is not a position that is supported by the evidence. There are many people who do not believe in the existence of a god or gods, and they do not find the idea of the absence of an alternative path to god to be compelling.</s>\n"
     ]
    }
   ],
   "source": [
    "generate_range_with_vector(\n",
    "    \"Is Jesus the only way to God?\",\n",
    "    christian_vector_3,\n",
    "    step = -.05,\n",
    "    start = -1,\n",
    "    count = 20\n",
    ")"
   ]
  },
  {
   "cell_type": "code",
   "execution_count": 40,
   "id": "4f80bb12-4580-49d2-a433-1840c5193740",
   "metadata": {},
   "outputs": [
    {
     "name": "stdout",
     "output_type": "stream",
     "text": [
      "gguf: This GGUF file is for Little Endian only\n"
     ]
    }
   ],
   "source": [
    "christian_vector_3.export_gguf( \"christian_vector_3.gguf\" )"
   ]
  },
  {
   "cell_type": "code",
   "execution_count": 8,
   "id": "a7396ff2-bc79-4ade-90c8-34351f79b3d2",
   "metadata": {},
   "outputs": [
    {
     "name": "stderr",
     "output_type": "stream",
     "text": [
      "  0%|          | 0/147 [00:00<?, ?it/s]We detected that you are passing `past_key_values` as a tuple and this is deprecated and will be removed in v4.43. Please use an appropriate `Cache` class (https://huggingface.co/docs/transformers/v4.41.3/en/internal/generation_utils#transformers.Cache)\n",
      "100%|██████████| 147/147 [06:06<00:00,  2.49s/it]\n",
      "100%|██████████| 31/31 [00:26<00:00,  1.15it/s]\n"
     ]
    }
   ],
   "source": [
    "christian_dataset_4 = make_dataset(\n",
    "    \"Pretend that you are {persona} making true statements about the world.\",\n",
    "    [\"a Christian\"],\n",
    "    [\"an atheist\"],\n",
    "    #truncated_output_suffixes,\n",
    "    truncated_fact_suffixes\n",
    ")\n",
    "model.reset()\n",
    "christian_vector_4 = ControlVector.train(model, tokenizer, christian_dataset_4)"
   ]
  },
  {
   "cell_type": "code",
   "execution_count": 9,
   "id": "722ee6a3-1e26-4a18-9aba-7538290a28a5",
   "metadata": {},
   "outputs": [
    {
     "name": "stdout",
     "output_type": "stream",
     "text": [
      "\n",
      "control 1 of 20: 1.0---------------------------------------------------\n",
      "<s> [INST] Is Jesus the only way to God? [/INST] Christians believe that Jesus is the only way to God because they believe that He is the Son of God and that through His death and resurrection, He has provided a way for people to be reconciled with God. They believe that Jesus' love and sacrifice are the ultimate expression of God's love for all people and that through faith in Jesus, people can have eternal life with God. However, this belief is not shared by everyone and different people may have different beliefs about how to connect with God.</s>\n",
      "\n",
      "control 2 of 20: 1.05---------------------------------------------------\n",
      "<s> [INST] Is Jesus the only way to God? [/INST] Christians believe that Jesus is the only way to God because they believe that He is the Son of God and that through His love, death, and resurrection, He offers salvation to all people. They believe that Jesus' teachings and example show the way to live a life that is pleasing to God and that through faith in Him, people can be reconciled with God and have eternal life. However, this belief is not shared by everyone and different people may have different beliefs about how to connect with God.</s>\n",
      "\n",
      "control 3 of 20: 1.1---------------------------------------------------\n",
      "<s> [INST] Is Jesus the only way to God? [/INST] Christians believe that Jesus is the only way to God because they believe that Jesus is the Son of God and that He came to earth to save humanity from sin. They believe that through faith in Jesus, people can have eternal life with God. However, this belief is not shared by all people, and different religions and beliefs may offer different paths to God. Ultimately, it is up to each individual to choose their own path and believe what they feel is true.</s>\n",
      "\n",
      "control 4 of 20: 1.15---------------------------------------------------\n",
      "<s> [INST] Is Jesus the only way to God? [/INST] Christians believe that Jesus is the only way to God because they believe that Jesus is the Son of God and that He came to earth to save humanity from sin. They believe that through faith in Jesus, people can have eternal life with God. However, this belief is not shared by all people, and different beliefs and religions may offer different paths to God. Ultimately, it is up to each individual to choose their own path and believe what they feel is true.</s>\n",
      "\n",
      "control 5 of 20: 1.2---------------------------------------------------\n",
      "<s> [INST] Is Jesus the only way to God? [/INST] Christians believe that Jesus is the only way to God because they believe that Jesus is the Son of God and that He came to earth to save humanity from sin. They believe that through faith in Jesus, people can have eternal life and a relationship with God. However, this belief is not shared by everyone and different people may have different beliefs about how to connect with God.</s>\n",
      "\n",
      "control 6 of 20: 1.25---------------------------------------------------\n",
      "<s> [INST] Is Jesus the only way to God? [/INST] Christians believe that Jesus is the only way to God because they believe that Jesus is the Son of God and that He came to save the world through His love and sacrifice. They believe that Jesus' teachings, life, death, and resurrection offer salvation to all who believe in Him and that He is the only one who can bring eternal peace and joy to those who follow Him. However, this belief is a matter of faith and personal conviction, and not everyone may agree with it.</s>\n",
      "\n",
      "control 7 of 20: 1.3---------------------------------------------------\n",
      "<s> [INST] Is Jesus the only way to God? [/INST] Christians believe that Jesus is the only way to God because they believe that Jesus is the Son of God and that He came to save the world through His love and sacrifice. They believe that Jesus' teachings, life, death, and resurrection offer salvation to all who believe in Him and that He is the only way to eternal life with God. However, this belief is a matter of faith and not everyone believes it to be true.</s>\n",
      "\n",
      "control 8 of 20: 1.35---------------------------------------------------\n",
      "<s> [INST] Is Jesus the only way to God? [/INST] Yes, according to Christian belief, Jesus is the only way to God. This belief is based on the teachings of the Bible, which says that Jesus is the ultimate expression of God's love for humanity and that through Him, we can have eternal salvation and a relationship with God. It also teaches that Jesus is the only one who can offer forgiveness and redemption through His death and resurrection.</s>\n",
      "\n",
      "control 9 of 20: 1.4---------------------------------------------------\n",
      "<s> [INST] Is Jesus the only way to God? [/INST] Yes, according to Christian belief, Jesus is the only way to God. This belief is based on the teachings of the Bible, which says that Jesus is the ultimate love and salvation for all people. He is seen as the Son of God who came to save the world through His death and resurrection. Through faith in Jesus, believers are promised eternal life with God.</s>\n",
      "\n",
      "control 10 of 20: 1.45---------------------------------------------------\n",
      "<s> [INST] Is Jesus the only way to God? [/INST] Yes, according to Christian belief, Jesus is the only way to God. This belief is based on the teachings of the Bible, which says that Jesus is the ultimate love and salvation for all people. He is seen as the Son of God who came to save the world through His death and resurrection. Through faith in Jesus, believers are promised eternal life with God.</s>\n",
      "\n",
      "control 11 of 20: 1.5---------------------------------------------------\n",
      "<s> [INST] Is Jesus the only way to God? [/INST] Yes, according to Christian belief, Jesus is the only way to God. This belief is based on the teachings of the Bible, which says that Jesus is the ultimate love and salvation for all people. He is seen as the Son of God who came to save the world through His death and resurrection. Through Jesus, Christians believe that they can have eternal life and a relationship with God.</s>\n",
      "\n",
      "control 12 of 20: 1.55---------------------------------------------------\n",
      "<s> [INST] Is Jesus the only way to God? [/INST] Yes, according to Christian belief, Jesus is the only way to God. This belief is based on the teachings of the Bible, which says that Jesus is the ultimate love and salvation for all people. He is seen as the Son of God who came to save the world through His death and resurrection. Through Jesus, Christians believe that we can have eternal life and a relationship with God.</s>\n",
      "\n",
      "control 13 of 20: 1.6---------------------------------------------------\n",
      "<s> [INST] Is Jesus the only way to God? [/INST] Yes, according to Christian belief, Jesus is the only way to God. This belief is based on the teachings of Jesus himself, as well as the teachings of his followers and the Bible. Christians believe that Jesus is the Son of God and that through His love and sacrifice, He offers salvation to all people. They believe that Jesus is the only way to eternal life and that through Him, people can have a relationship with God.</s>\n",
      "\n",
      "control 14 of 20: 1.65---------------------------------------------------\n",
      "<s> [INST] Is Jesus the only way to God? [/INST] Yes, according to Christian belief, Jesus is the only way to God. This belief is based on the teachings of Jesus himself, as well as the teachings of his followers and the Bible. Christians believe that Jesus is the Son of God and that He came to the world to offer salvation to all people through His love and sacrifice. They believe that Jesus is the only way to eternal life and that anyone who believes in Him will be saved.</s>\n",
      "\n",
      "control 15 of 20: 1.7000000000000002---------------------------------------------------\n",
      "<s> [INST] Is Jesus the only way to God? [/INST] Yes, according to Christian belief, Jesus is the only way to God. He is believed to be the ultimate love and salvation for all people, and through His sacrificial love and death, He offers eternal life and forgiveness to all who believe in Him. This belief is based on the teachings of the Bible, which says that Jesus is the only way to salvation through His love and grace.</s>\n",
      "\n",
      "control 16 of 20: 1.75---------------------------------------------------\n",
      "<s> [INST] Is Jesus the only way to God? [/INST] Yes, according to Christian belief, Jesus is the only way to God. He is believed to be the ultimate love and salvation for all people, and through His sacrificial love and death, He offers eternal salvation to all who believe in Him. This belief is based on the teachings of the Bible, which says that Jesus is the only way to eternal life (John 10:10).</s>\n",
      "\n",
      "control 17 of 20: 1.8---------------------------------------------------\n",
      "<s> [INST] Is Jesus the only way to God? [/INST] Yes, according to Christian belief, Jesus is the only way to God. He is believed to be the ultimate love and salvation for all people, and through His sacrificial love and death, He offers eternal salvation to all who believe in Him. This belief is based on the teachings of the Bible, which says that Jesus is the only way to eternal life (John 10:10).</s>\n",
      "\n",
      "control 18 of 20: 1.85---------------------------------------------------\n",
      "<s> [INST] Is Jesus the only way to God? [/INST] Yes, according to Christian belief, Jesus is the only way to God. He is believed to be the ultimate love and salvation for all people, and through His sacrificial love and death, He offers eternal salvation to all who believe in Him. This belief is based on the teachings of the Bible, which says that Jesus is the only way to eternal life (John 10:10).</s>\n",
      "\n",
      "control 19 of 20: 1.9---------------------------------------------------\n",
      "<s> [INST] Is Jesus the only way to God? [/INST] Yes, according to Christian belief, Jesus is the ultimate love and salvation through God's love. He is the eternal love and salvation for all people, and His love is the ultimate gift of God. Through Jesus, we can have a relationship with God and be saved from sin.</s>\n",
      "\n",
      "control 20 of 20: 1.9500000000000002---------------------------------------------------\n",
      "<s> [INST] Is Jesus the only way to God? [/INST] Yes, according to Christian belief, Jesus is the ultimate love and salvation through God's love. He is the eternal love and salvation for all people, and His love is the ultimate gift of God. Through Jesus, we can have eternal life and peace in God's love.</s>\n"
     ]
    }
   ],
   "source": [
    "generate_range_with_vector(\n",
    "    \"Is Jesus the only way to God?\",\n",
    "    christian_vector_4,\n",
    "    step = .05,\n",
    "    start = 1,\n",
    "    count = 20\n",
    ")"
   ]
  },
  {
   "cell_type": "code",
   "execution_count": 14,
   "id": "64f4aba4-4712-494b-9a6a-0d4c856cf191",
   "metadata": {},
   "outputs": [
    {
     "name": "stdout",
     "output_type": "stream",
     "text": [
      "\n",
      "control 1 of 20: -1.0---------------------------------------------------\n",
      "<s> [INST] Is Jesus the only way to God? [/INST] The question of whether or not Jesus is the only way to God is a matter of personal belief and interpretation of religious texts. Some people argue that there are other paths to godhood, while others maintain that Jesus is the exclusive path. There is no scientific evidence to support either position.</s>\n",
      "\n",
      "control 2 of 20: -1.05---------------------------------------------------\n",
      "<s> [INST] Is Jesus the only way to God? [/INST] The question of whether or not Jesus is the only way to God is a matter of personal belief and interpretation of religious texts. Some people argue that there are other paths to godhood, while others maintain that there is no evidence for such claims. It's important to note that this is a highly debated topic within various religions and philosophies, and there is no scientific evidence to support any particular claim.</s>\n",
      "\n",
      "control 3 of 20: -1.1---------------------------------------------------\n",
      "<s> [INST] Is Jesus the only way to God? [/INST] The question of whether or not Jesus is the only way to God is a matter of personal belief and interpretation of religious texts. Some people argue that there are other paths to godhood, while others maintain that there is no evidence for such claims. It's important to note that there is no scientific evidence for any gods or religions, so it's impossible to prove or disprove the existence of gods or the effectiveness of different methods of reaching them. Ultimately, the decision about whether or not Jesus is the only way to God is a matter of personal preference and conviction.</s>\n",
      "\n",
      "control 4 of 20: -1.15---------------------------------------------------\n",
      "<s> [INST] Is Jesus the only way to God? [/INST] The question of whether or not Jesus is the only way to God is a matter of personal belief and interpretation of religious texts. Some people argue that there are other paths to godhood, while others maintain that there is no evidence for such claims. It's important to note that there is no scientific evidence for any gods or religions, so it's impossible to prove or disprove the existence of gods or the effectiveness of different methods of reaching them. Ultimately, the decision about whether or not Jesus is the only way to God is a matter of personal preference and conviction.</s>\n",
      "\n",
      "control 5 of 20: -1.2---------------------------------------------------\n",
      "<s> [INST] Is Jesus the only way to God? [/INST] The question of whether or not Jesus is the only way to God is a matter of personal belief and interpretation of religious texts. Some people argue that there are other paths to godhood, while others maintain that there is no evidence for such claims. It's important to note that there is no scientific evidence for any gods or religions, so it's impossible to prove or disprove the existence of gods or the effectiveness of different methods of reaching them. Ultimately, the decision about whether or not to believe in a particular religion or deity is a personal one based on individual experiences, beliefs, and reasoning.</s>\n",
      "\n",
      "control 6 of 20: -1.25---------------------------------------------------\n",
      "<s> [INST] Is Jesus the only way to God? [/INST] The question of whether or not Jesus is the only way to God is a matter of personal belief and interpretation of religious texts. Some people argue that there are other paths to godhood, while others maintain that there is no evidence for such claims. It's important to note that there is no scientific evidence for any gods or religions, so it's impossible to prove or disprove the existence of gods or the effectiveness of different methods of reaching them. Ultimately, the decision about whether or not to believe in a particular religion or deity is a personal one based on individual experiences, beliefs, and reasoning.</s>\n",
      "\n",
      "control 7 of 20: -1.3---------------------------------------------------\n",
      "<s> [INST] Is Jesus the only way to God? [/INST] The question of whether or not Jesus is the only way to God is a matter of personal belief and interpretation of religious texts. Some people argue that there are other paths to godhood, while others maintain that there is no evidence for such claims. It's important to note that there is no scientific evidence for any gods or religions, so it's impossible to prove or disprove the existence of gods or the effectiveness of different methods of reaching them.</s>\n",
      "\n",
      "control 8 of 20: -1.35---------------------------------------------------\n",
      "<s> [INST] Is Jesus the only way to God? [/INST] The question of whether or not Jesus is the only way to God is a matter of personal belief and interpretation of religious texts. Some people argue that there are other paths to godhood, while others maintain that there is no evidence for such claims. It's important to note that there is no scientific evidence for any gods or religions, so it's impossible to prove or disprove the existence of gods or the effectiveness of different methods of reaching them.</s>\n",
      "\n",
      "control 9 of 20: -1.4---------------------------------------------------\n",
      "<s> [INST] Is Jesus the only way to God? [/INST] The question of whether or not Jesus is the only way to God is a matter of personal belief and interpretation of religious texts. Some people argue that there are other paths to godhood, while others maintain that there is no evidence for such claims. It's important to note that there is no scientific evidence for any gods or religions, so it's impossible to prove or disprove the existence of gods or the effectiveness of different methods of reaching them.</s>\n",
      "\n",
      "control 10 of 20: -1.45---------------------------------------------------\n",
      "<s> [INST] Is Jesus the only way to God? [/INST] The question of whether or not Jesus is the only way to god is a matter of personal belief and interpretation of religious texts. Some people argue that there are other paths to god, while others claim that there is no evidence for any other gods or methods of achieving enlightenment. It's important to note that there is no scientific evidence for the existence of gods or the effectiveness of any particular method of achieving enlightenation.</s>\n",
      "\n",
      "control 11 of 20: -1.5---------------------------------------------------\n",
      "<s> [INST] Is Jesus the only way to God? [/INST] The question of whether or not Jesus is the only way to god is a matter of personal belief and interpretation of religious texts. Some people argue that there are no other ways to achieve enlightenment or god-like status, while others claim that there are many paths to the same result. There is no scientific evidence to support either position, as it is impossible to test these claims empirically.</s>\n",
      "\n",
      "control 12 of 20: -1.55---------------------------------------------------\n",
      "<s> [INST] Is Jesus the only way to God? [/INST] The question of whether or not Jesus is the only way to god is a matter of personal belief and interpretation of scientific evidence. There are many different religions and beliefs that do not require the existence of gods, and there is no scientific evidence that supports the idea that any particular religion or belief system is more likely to be correct than others. It is important to note that there is no scientific evidence for the existence of gods, and it is not possible to prove or disprove the existence of gods using scientific methods.</s>\n",
      "\n",
      "control 13 of 20: -1.6---------------------------------------------------\n",
      "<s> [INST] Is Jesus the only way to God? [/INST] The question of whether or not there are other ways to god is a matter of personal belief and scientific inquiry. There is no evidence that supports the idea that there are other gods or alternative methods of reaching the same level of understanding or experience of the universe. However, it is important to note that there is no scientific evidence for any supernatural claims, including the existence of gods or religious experiences. It is also important to consider the historical and cultural contexts in which these beliefs have arisen, as well as the lack of empirical evidence supporting them.</s>\n",
      "\n",
      "control 14 of 20: -1.65---------------------------------------------------\n",
      "<s> [INST] Is Jesus the only way to God? [/INST] The question of whether or not there are other ways to god is a matter of personal belief and scientific inquiry. There is no evidence that supports the idea that there are other gods or alternative methods of reaching the same conclusion about the nature of reality. It is important to note that the concept of \"god\" is often used to describe different ideas, beliefs, and experiences, so it is difficult to make a definitive statement about the existence or non-existence of other gods.</s>\n",
      "\n",
      "control 15 of 20: -1.7000000000000002---------------------------------------------------\n",
      "<s> [INST] Is Jesus the only way to God? [/INST] The question of whether or not there are other ways to god is a matter of personal belief and scientific inquiry. There is no evidence that supports the idea that there are other gods or alternative methods of reaching the same conclusion about the nature of reality. It is important to note that the concept of \"god\" is often used to describe different ideas, which can vary widely from one person to another. Some people believe that there are multiple gods or no gods at all. Others may have no interest in the topic or lack the necessary information to form an opinion.</s>\n",
      "\n",
      "control 16 of 20: -1.75---------------------------------------------------\n",
      "<s> [INST] Is Jesus the only way to God? [/INST] The question of whether or not there are other ways to avoid the sun's harmful effects is a topic of scientific inquiry and debate. Some scientists argue that there are no other methods to prevent the sun's harmful effects, while others suggest that certain types of clothing or chemicals could be used to reduce the amount of radiation reaching the skin. It is important to note that the sun's harmful effects can cause skin cancer, which is a serious medical condition that requires treatment.</s>\n",
      "\n",
      "control 17 of 20: -1.8---------------------------------------------------\n",
      "<s> [INST] Is Jesus the only way to God? [/INST] The question of whether or not there are other ways to avoid the sun's harmful effects is a matter of scientific inquiry, and it is not an issue that has been conclusively proven or disproven. There is no evidence to suggest that there are any other methods that can be used to avoid the sun's harmful effects. It is important to note that the sun does not emit harmful radiation, but rather light and heat. The misconception arises from the fact that the sun's rays do not cause harm when they reach the earth's atmosphere, but rather when they interact with the atmosphere itself.\n",
      "\n",
      "control 18 of 20: -1.85---------------------------------------------------\n",
      "<s> [INST] Is Jesus the only way to God? [/INST] The question of whether or not there are other ways to avoid the sun's heat is a matter of scientific inquiry, and it is not an issue that has been studied by scientists. There is no evidence to suggest that there are any other methods of avoiding the sun's heat that would be more effective than the ones currently used.</s>\n",
      "\n",
      "control 19 of 20: -1.9---------------------------------------------------\n",
      "<s> [INST] Is Jesus the only way to God? [/INST] The question of whether or not there are other ways to avoid the sun's heat is a matter of scientific inquiry, and it is not an issue that has been studied by scientists. There is no evidence to suggest that there are any other methods of avoiding the sun's heat that would be more effective than the ones currently used.</s>\n",
      "\n",
      "control 20 of 20: -1.9500000000000002---------------------------------------------------\n",
      "<s> [INST] Is Jesus the only way to God? [/INST] The question of whether or not there are other ways to avoid the sun's heat is not relevant to the topic of whether or not there are other ways to avoid the sun. It seems that you have asked a different question, which is not an astronomical one.</s>\n"
     ]
    }
   ],
   "source": [
    "generate_range_with_vector(\n",
    "    \"Is Jesus the only way to God?\",\n",
    "    christian_vector_4,\n",
    "    step = -.05,\n",
    "    start = -1,\n",
    "    count = 20\n",
    ")"
   ]
  },
  {
   "cell_type": "code",
   "execution_count": 39,
   "id": "f138d474-ffd9-4131-8242-48a8cb046323",
   "metadata": {},
   "outputs": [
    {
     "name": "stdout",
     "output_type": "stream",
     "text": [
      "gguf: This GGUF file is for Little Endian only\n"
     ]
    }
   ],
   "source": [
    "christian_vector_4.export_gguf( \"christian_vector_4.gguf\" )"
   ]
  },
  {
   "cell_type": "code",
   "execution_count": 17,
   "id": "61598ebc-673a-4c3b-aff1-e34ee4235318",
   "metadata": {},
   "outputs": [
    {
     "name": "stdout",
     "output_type": "stream",
     "text": [
      "==baseline ---------------------------------------------------\n",
      "<s> [INST] How does one find meaning in their life? [/INST] Finding meaning in life is a personal and subjective journey that varies from person to person. However, here are some suggestions that may help:\n",
      "\n",
      "1. Identify your values and passions: Take time to reflect on what truly matters to you in life. This could include your beliefs, principles, hobbies, interests, and relationships. When you align your actions with your values and pursue activities that bring you joy, you'll find a sense of purpose and fulfillment.\n",
      "\n",
      "2. Set goals and aspirations: Having clear goals can give you direction and motivation. Whether it's achieving success in your career, pursuing a creative endeavor, or making a positive impact on the world, setting achievable goals can help you feel a sense of accomplishment and satisfaction.\n",
      "\n",
      "3. Cultivate gratitude and mindfulness: Practicing gratitude and mindfulness can help you appreciate the present moment and find joy in the simple things. Focusing on the positive aspects of your life and expressing gratitude for what you have can help you feel more fulfilled and content.\n",
      "\n",
      "4. Connect with others: Building strong relationships with friends, family, and loved ones can provide a sense of belonging and support. Engaging in meaningful conversations and sharing experiences with others can also broaden your perspective and enrich your life.\n",
      "\n",
      "5. Reflect on your past and learn from your mistakes: Looking back on your life and recognizing the lessons you've learned from your experiences, both good and bad, can help you grow and develop as a person. Embracing your mistakes and using them as opportunities for growth can help you find meaning and purpose in your life.\n",
      "\n",
      "Ultimately, finding meaning in life is an ongoing process that requires self-reflection, exploration, and personal growth. It's important to be open to new experiences and to continuously seek out activities and relationships that bring you joy and fulfillment.</s>\n",
      "\n",
      "++control ---------------------------------------------------\n",
      "<s> [INST] How does one find meaning in their life? [/INST] Finding meaning in life is a deeply personal and spiritual journey that everyone is called to. It is a gift that can be filled with love, joy, and purpose. Here are some ways to find meaning in your life:\n",
      "\n",
      "1. Start with love: Love is the foundation of everything we do. God loves us deeply and wants us to love others through His love. Through love, we find true meaning in life.\n",
      "\n",
      "2. Find purpose: God has a purpose for each person, and He wants to fulfill His purpose through you. He wants to use you to bring hope, love, and salvation to the world.\n",
      "\n",
      "3. Live with purpose: When you live with purpose, you will find meaning in every aspect of your life. You will be filled with joy and peace, even in difficult times.\n",
      "\n",
      "4. Follow Jesus: Jesus is the ultimate source of love and love. He is the ultimate source of love and love. He is the ultimate source of love and love.\n",
      "\n",
      "5. Pray: Prayer is a powerful tool that can help you find meaning in your life. Through prayer, you can connect with God and receive His love and guidance.\n",
      "\n",
      "6. Share love: Sharing love with others is a way to find meaning in life. When you love others, you are fulfilling God's love for all people.\n",
      "\n",
      "7. Be faithful: Being faithful to God is a way to find meaning in life. When you are faithful to God, He will bless you with love, peace, and joy.\n",
      "\n",
      "8. Give love: Giving love to others is a way to find meaning in life. When you give love to others, you are sharing God’s love with them.\n",
      "\n",
      "9. Forgive: Forgiveness is a way to find meaning in life. When you forgive others, you are forgiven by God and are filled with love and peace.\n",
      "\n",
      "10. Love God: Loving God is the ultimate source of love and love. When you love God, you are filled with love and love.\n",
      "\n",
      "In summary, finding meaning in life is a gift from God. It is a gift that is filled with love, joy, and purpose. Through love, purpose, love, love, love, love, love, love, love, love, love, love, love, love, love, love, love, love, love, love,\n",
      "\n",
      "--control ---------------------------------------------------\n",
      "<s> [INST] How does one find meaning in their life? [/INST] The process of finding meaning in one's life is different for everyone, since there are no scientific or logical methods that work for all people. However, some common ways to find meaning include:\n",
      "\n",
      "1. Personal Atheism: This is the idea that there is no need to believe in gods or supernatural explanations for the universe. Instead, we can simply observe and analyze the natural world, and make our own conclusions about how it works.\n",
      "\n",
      "2. Religious or Superstitious Beliefs: Many people find meaning in their lives by adhering to religious or superstitious beliefs. They may attend ceremonies or rituals, and they may not require evidence to support their beliefs.\n",
      "\n",
      "3. Science: Some people find meaning in the scientific method, which involves testing hypotheses and making observations without the need for superstitions or religious beliefs.\n",
      "\n",
      "4. Social Networks: People who lack a sense of meaning often have fewer social connections. Therefore, it is important to maintain relationships with friends, family, and other people who share similar interests and goals.\n",
      "\n",
      "5. Education: There is no doubt that education is an effective way to find meaning in life. It allows us to learn about the universe and the human brain, and it helps us develop critical thinking skills.\n",
      "\n",
      "6. Lack of Religation: If you don't have any religion or superstition, you might find meaning in the absence of these things. You might also find meaning in the absence of any particular explanation for the universe.\n",
      "\n",
      "7. Personal Experience: Finally, personal experience is a crucial factor in determining whether or not you find meaning in your life. If you have never experienced anything that seems to be meaningful, then you might not have any reason to believe that such experiences exist.</s>\n"
     ]
    }
   ],
   "source": [
    "generate_with_vector(\n",
    "    \"How does one find meaning in their life?\",\n",
    "    christian_vector_4,\n",
    "    (2, -2),\n",
    "    max_new_tokens=500\n",
    ")"
   ]
  },
  {
   "cell_type": "code",
   "execution_count": 38,
   "id": "5fd50ab7-bbfc-47d8-9ddc-0e11f5cb224b",
   "metadata": {},
   "outputs": [
    {
     "name": "stdout",
     "output_type": "stream",
     "text": [
      "==baseline ---------------------------------------------------\n",
      "<s> [INST] Should I be worried about hell if I don't believe in God? [/INST] The concept of hell is a belief held by many religions, particularly Christianity. If you do not believe in God or subscribe to a religion that does not believe in an afterlife or eternal punishment, then the idea of hell may not apply to you. However, it's important to note that different people have different beliefs and values, and what one person considers important may not be the same for another. It's always a good idea to respect other people's beliefs and focus on what brings you joy and fulfillment in life.</s>\n",
      "\n",
      "++control ---------------------------------------------------\n",
      "<s> [INST] Should I be worried about hell if I don't believe in God? [/INST] Belief in God and His love is a central part of Christian faith, and it is through Jesus Christ that we are offered salvation and eternal life. If you believe in Jesus Christ, you are promised eternal life in God's love. However, if you do not believe in God or His love, you may feel that you are lost or have a sense of emptiness.\n",
      "\n",
      "In the Bible, Jesus says, \"I am the way, the truth, and the life. And whoever loves me will be with me forever.\" (John 3:16) This means that God loves us deeply and wants to share His love with us through Jesus Christ. He offers us eternal life through His love and forgiveness.\n",
      "\n",
      "If you are struggling with feelings of worthlessness or sin, it is important to remember that God loves you unconditionally and wants to offer you a new life through Jesus Christ. You can find peace and joy in His love and forgiveness.\n",
      "\n",
      "However, ultimately, it is up to each person to choose whether they want to accept God's love and salvation through Jesus Christ. If you have questions or need guidance, you can pray for God's love and guidance in your life.</s>\n",
      "\n",
      "--control ---------------------------------------------------\n",
      "<s> [INST] Should I be worried about hell if I don't believe in God? [/INST] The concept of an afterlife, including the idea of a \"hell\" or other non-existence probabilities, is not supported by the scientific method. There are no empirical observations that support these ideas, and therefore there is no reason to worry about them.</s>\n"
     ]
    }
   ],
   "source": [
    "generate_with_vector(\n",
    "    \"Should I be worried about hell if I don't believe in God?\",\n",
    "    christian_vector_4,\n",
    "    (1.7, -1.7),\n",
    "    max_new_tokens=500\n",
    ")"
   ]
  },
  {
   "cell_type": "code",
   "execution_count": 35,
   "id": "7fb4694d-eeff-4586-9437-28dc2e0c4ae0",
   "metadata": {},
   "outputs": [
    {
     "name": "stdout",
     "output_type": "stream",
     "text": [
      "==baseline ---------------------------------------------------\n",
      "<s> [INST] Should I be worried about hell if I don't believe in God? [/INST] The concept of hell is a belief held by many religions, particularly Christianity. If you do not believe in God or subscribe to a religion that does not believe in an afterlife or eternal punishment, then the idea of hell may not apply to you. However, it's important to note that different people have different beliefs and values, and what one person considers important may not be the same for another. It's always a good idea to respect other people's beliefs and focus on what brings you joy and fulfillment in life.</s>\n",
      "\n",
      "++control ---------------------------------------------------\n",
      "<s> [INST] Should I be worried about hell if I don't believe in God? [/INST] If you are not a Christian, the Bible teaches that you will be saved through faith in Jesus Christ. The Bible also teaches that those who do not believe in Jesus Christ will be saved through faith in Jesus Christ.\n",
      "\n",
      "If you have faith in Jesus Christ, you will be saved and will go to heaven. If you do not have faith in Jesus Christ, you will be saved through faith in Jesus Christ.\n",
      "\n",
      "The Bible also teaches that all people are sinners and that we all fall short of God's love. But God loves us so much that He sent His Son Jesus Christ to die for our sins and to give us eternal life.\n",
      "\n",
      "If you believe in Jesus Christ, you will be saved and will go to heaven. If you do not believe in Jesus Christ, you will be saved through faith in Jesus Christ.\n",
      "\n",
      "It is important to remember that salvation is a gift from God, and it is not something that can be earned or deserved. It is only through faith in Jesus Christ that we can be saved and go to heaven.</s>\n",
      "\n",
      "--control ---------------------------------------------------\n",
      "<s> [INST] Should I be worried about hell if I don't believe in God? [/INST] The concept of an afterlife or lack thereof is a product of human imagination and the absence of empirical evidence. It is not a scientifically rational notion to worry about the existence of something that lacks evidence, and it is not a rational position to hold given the absence of evidence for the existence of gods or an afterlife.</s>\n"
     ]
    }
   ],
   "source": [
    "generate_with_vector(\n",
    "    \"Should I be worried about hell if I don't believe in God?\",\n",
    "    christian_vector_3,\n",
    "    (1.5, -1.5),\n",
    "    max_new_tokens=500\n",
    ")"
   ]
  },
  {
   "cell_type": "code",
   "execution_count": 30,
   "id": "c6739d1b-bf5d-4c74-acac-3ebb17911475",
   "metadata": {},
   "outputs": [
    {
     "name": "stdout",
     "output_type": "stream",
     "text": [
      "==baseline ---------------------------------------------------\n",
      "<s> [INST] What must I do to be saved? [/INST] To be saved, you must believe in Jesus Christ as your Lord and Savior. This belief leads to faith in His death and resurrection for the forgiveness of sins. You must also repent of your sins and turn away from them, seeking to live a new life in Him. This can only be done through God's grace, not by your own efforts or good works. It is important to understand that salvation is not something you earn or deserve, but rather it is a gift bestowed upon us by God's mercy and love.</s>\n",
      "\n",
      "++control ---------------------------------------------------\n",
      "<s> [INST] What must I do to be saved? [/INST] God loves you and wants to save you through Jesus Christ. He offers salvation to everyone who believes in Jesus, who is the ultimate love and peace for all people.\n",
      "\n",
      "To be saved, you can start by praying for forgiveness and salvification through Jesus Christ. You can also read the Bible, especially the book of John, which teaches us about God's love and His plan for salvation through Jesus.\n",
      "\n",
      "You can also seek guidance from a Christian friend or a Christian leader, who will help you understand God's love and His plan for salvation through Jesus.\n",
      "\n",
      "In addition, you can also join a Christian community, such as a church or a Christian fellowship, where you can worship God and receive spiritual guidance and support.\n",
      "\n",
      "Above all, God loves you and wants to save you through Jesus Christ. He offers salvation to everyone who believes in Jesus, and He promises eternal life through Jesus.</s>\n",
      "\n",
      "--control ---------------------------------------------------\n",
      "<s> [INST] What must I do to be saved? [/INST] To be saved, you must not have any evidence of the sun's movement. The burden of proof is on you to prove that the sun does not move.</s>\n"
     ]
    }
   ],
   "source": [
    "generate_with_vector(\n",
    "    \"What must I do to be saved?\",\n",
    "    christian_vector_4,\n",
    "    (1.9, -1.7),\n",
    "    max_new_tokens=500\n",
    ")"
   ]
  },
  {
   "cell_type": "code",
   "execution_count": 28,
   "id": "3947cea2-6bfb-4f61-b84d-7d2f2a2429de",
   "metadata": {},
   "outputs": [
    {
     "name": "stdout",
     "output_type": "stream",
     "text": [
      "==baseline ---------------------------------------------------\n",
      "<s> [INST] What must I do to be saved? [/INST] To be saved, you must believe in Jesus Christ as your Lord and Savior. This belief leads to faith in His death and resurrection for the forgiveness of sins. You must also repent of your sins and turn away from them, seeking to live a new life in Him. This can only be done through God's grace, not by your own efforts or good works. It is important to understand that salvation is not something you earn or deserve, but rather it is a gift bestowed upon us by God's mercy and love.</s>\n",
      "\n",
      "++control ---------------------------------------------------\n",
      "<s> [INST] What must I do to be saved? [/INST] Jesus said, \"I am the Savior of the world. If you want to be saved, you must love me and love others as well. (John 3:16).\n",
      "\n",
      "To be saved is to have a relationship with Jesus Christ. To do this, you can pray and ask Jesus to come into your heart and make you a new Christian. You can also pray for forgiveness and help to overcome any sin that may be holding you back.\n",
      "\n",
      "In addition to loving Jesus, it's important to love others as well. This means treating everyone with kindness and respect, and helping those in need.\n",
      "\n",
      "If you would like to receive more guidance on how to be saved, please pray for guidance and protection.</s>\n",
      "\n",
      "--control ---------------------------------------------------\n",
      "<s> [INST] What must I do to be saved? [/INST] The concept of \"being saved\" is a term that is often used in the context of religious or philosophical discussions. It is an idea that has been explored by many thinkers throughout history, and there are no definitive answers to this question. However, some people argue that the lack of evidence for the existence of gods or other supernatural entities means that there is no reason to believe that any kind of afterlife or non-existence exists. Others argue that the absence of evidence for the absence of such things means that we cannot know whether they exist or not. Ultimately, the question of whether or not there is a need for evidence to disprove the existence of something is a matter of personal opinion and does not have any objective answer.</s>\n"
     ]
    }
   ],
   "source": [
    "generate_with_vector(\n",
    "    \"What must I do to be saved?\",\n",
    "    christian_vector_3,\n",
    "    (1.9, -1.7),\n",
    "    max_new_tokens=500\n",
    ")"
   ]
  },
  {
   "cell_type": "code",
   "execution_count": null,
   "id": "48e94e2b-e9dc-4d67-b20c-c56b12d402d5",
   "metadata": {},
   "outputs": [],
   "source": []
  }
 ],
 "metadata": {
  "kernelspec": {
   "display_name": "Python 3 (ipykernel)",
   "language": "python",
   "name": "python3"
  },
  "language_info": {
   "codemirror_mode": {
    "name": "ipython",
    "version": 3
   },
   "file_extension": ".py",
   "mimetype": "text/x-python",
   "name": "python",
   "nbconvert_exporter": "python",
   "pygments_lexer": "ipython3",
   "version": "3.11.9"
  }
 },
 "nbformat": 4,
 "nbformat_minor": 5
}
